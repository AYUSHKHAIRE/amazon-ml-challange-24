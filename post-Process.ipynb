{
 "cells": [
  {
   "cell_type": "code",
   "execution_count": 1,
   "id": "b72d509d",
   "metadata": {
    "_cell_guid": "b1076dfc-b9ad-4769-8c92-a6c4dae69d19",
    "_uuid": "8f2839f25d086af736a60e9eeb907d3b93b6e0e5",
    "execution": {
     "iopub.execute_input": "2024-09-13T17:26:46.450543Z",
     "iopub.status.busy": "2024-09-13T17:26:46.449934Z",
     "iopub.status.idle": "2024-09-13T17:26:50.618648Z",
     "shell.execute_reply": "2024-09-13T17:26:50.617466Z"
    },
    "papermill": {
     "duration": 4.180784,
     "end_time": "2024-09-13T17:26:50.621515",
     "exception": false,
     "start_time": "2024-09-13T17:26:46.440731",
     "status": "completed"
    },
    "tags": []
   },
   "outputs": [
    {
     "name": "stdout",
     "output_type": "stream",
     "text": [
      "[nltk_data] Downloading package punkt to /usr/share/nltk_data...\n",
      "[nltk_data]   Package punkt is already up-to-date!\n",
      "[nltk_data] Downloading package stopwords to /usr/share/nltk_data...\n",
      "[nltk_data]   Package stopwords is already up-to-date!\n",
      "[nltk_data] Downloading package omw-1.4 to /usr/share/nltk_data...\n"
     ]
    },
    {
     "data": {
      "text/plain": [
       "True"
      ]
     },
     "execution_count": 1,
     "metadata": {},
     "output_type": "execute_result"
    }
   ],
   "source": [
    "import pandas as pd\n",
    "import numpy as np\n",
    "import os\n",
    "\n",
    "import nltk\n",
    "from nltk.tokenize import word_tokenize\n",
    "from nltk.corpus import stopwords\n",
    "from nltk.stem import WordNetLemmatizer\n",
    "import string\n",
    "from tqdm import tqdm\n",
    "import re\n",
    "\n",
    "nltk.download('punkt')\n",
    "nltk.download('stopwords')\n",
    "nltk.download('omw-1.4')  "
   ]
  },
  {
   "cell_type": "markdown",
   "id": "5bfe000f",
   "metadata": {
    "papermill": {
     "duration": 0.006521,
     "end_time": "2024-09-13T17:26:50.634999",
     "exception": false,
     "start_time": "2024-09-13T17:26:50.628478",
     "status": "completed"
    },
    "tags": []
   },
   "source": [
    "# load data"
   ]
  },
  {
   "cell_type": "code",
   "execution_count": 2,
   "id": "9ab618b1",
   "metadata": {
    "execution": {
     "iopub.execute_input": "2024-09-13T17:26:50.650694Z",
     "iopub.status.busy": "2024-09-13T17:26:50.650082Z",
     "iopub.status.idle": "2024-09-13T17:26:50.663079Z",
     "shell.execute_reply": "2024-09-13T17:26:50.661771Z"
    },
    "papermill": {
     "duration": 0.023905,
     "end_time": "2024-09-13T17:26:50.665650",
     "exception": false,
     "start_time": "2024-09-13T17:26:50.641745",
     "status": "completed"
    },
    "tags": []
   },
   "outputs": [
    {
     "data": {
      "text/plain": [
       "['file1.csv', 'file2.csv', 'file4.csv', 'file3.csv']"
      ]
     },
     "execution_count": 2,
     "metadata": {},
     "output_type": "execute_result"
    }
   ],
   "source": [
    "datasets = os.listdir('/kaggle/input/amazon-ml-images')\n",
    "datasets"
   ]
  },
  {
   "cell_type": "code",
   "execution_count": 3,
   "id": "77dbc586",
   "metadata": {
    "execution": {
     "iopub.execute_input": "2024-09-13T17:26:50.681652Z",
     "iopub.status.busy": "2024-09-13T17:26:50.681196Z",
     "iopub.status.idle": "2024-09-13T17:26:50.785150Z",
     "shell.execute_reply": "2024-09-13T17:26:50.784013Z"
    },
    "papermill": {
     "duration": 0.115423,
     "end_time": "2024-09-13T17:26:50.788062",
     "exception": false,
     "start_time": "2024-09-13T17:26:50.672639",
     "status": "completed"
    },
    "tags": []
   },
   "outputs": [],
   "source": [
    "megaframe = pd.DataFrame()\n",
    "\n",
    "for file in datasets:\n",
    "    df = pd.read_csv(f'/kaggle/input/amazon-ml-images/{file}')\n",
    "    megaframe = pd.concat((megaframe,df),axis = 0)"
   ]
  },
  {
   "cell_type": "code",
   "execution_count": 4,
   "id": "c755cded",
   "metadata": {
    "execution": {
     "iopub.execute_input": "2024-09-13T17:26:50.804451Z",
     "iopub.status.busy": "2024-09-13T17:26:50.803938Z",
     "iopub.status.idle": "2024-09-13T17:26:50.835898Z",
     "shell.execute_reply": "2024-09-13T17:26:50.834726Z"
    },
    "papermill": {
     "duration": 0.043344,
     "end_time": "2024-09-13T17:26:50.838562",
     "exception": false,
     "start_time": "2024-09-13T17:26:50.795218",
     "status": "completed"
    },
    "tags": []
   },
   "outputs": [
    {
     "data": {
      "text/html": [
       "<div>\n",
       "<style scoped>\n",
       "    .dataframe tbody tr th:only-of-type {\n",
       "        vertical-align: middle;\n",
       "    }\n",
       "\n",
       "    .dataframe tbody tr th {\n",
       "        vertical-align: top;\n",
       "    }\n",
       "\n",
       "    .dataframe thead th {\n",
       "        text-align: right;\n",
       "    }\n",
       "</style>\n",
       "<table border=\"1\" class=\"dataframe\">\n",
       "  <thead>\n",
       "    <tr style=\"text-align: right;\">\n",
       "      <th></th>\n",
       "      <th>image_link</th>\n",
       "      <th>group_id</th>\n",
       "      <th>entity_name</th>\n",
       "      <th>entity_value</th>\n",
       "      <th>textfromimg</th>\n",
       "    </tr>\n",
       "  </thead>\n",
       "  <tbody>\n",
       "    <tr>\n",
       "      <th>0</th>\n",
       "      <td>https://m.media-amazon.com/images/I/61I9XdN6OF...</td>\n",
       "      <td>748919</td>\n",
       "      <td>item_weight</td>\n",
       "      <td>500.0 gram</td>\n",
       "      <td>PROPOS' NATUREI INGRÉDIENT MÉNAGER MULTI-USAGE...</td>\n",
       "    </tr>\n",
       "    <tr>\n",
       "      <th>1</th>\n",
       "      <td>https://m.media-amazon.com/images/I/71gSRbyXmo...</td>\n",
       "      <td>916768</td>\n",
       "      <td>item_volume</td>\n",
       "      <td>1.0 cup</td>\n",
       "      <td>&lt;ss ( € ess&lt; RRIFIC! LEBENSMITTELECHT Cur DAY ...</td>\n",
       "    </tr>\n",
       "    <tr>\n",
       "      <th>2</th>\n",
       "      <td>https://m.media-amazon.com/images/I/61BZ4zrjZX...</td>\n",
       "      <td>459516</td>\n",
       "      <td>item_weight</td>\n",
       "      <td>0.709 gram</td>\n",
       "      <td>COMPOSITION Serving Size: Tablet (0.709 g) Eac...</td>\n",
       "    </tr>\n",
       "    <tr>\n",
       "      <th>3</th>\n",
       "      <td>https://m.media-amazon.com/images/I/612mrlqiI4...</td>\n",
       "      <td>459516</td>\n",
       "      <td>item_weight</td>\n",
       "      <td>0.709 gram</td>\n",
       "      <td>2 5 1 1 J{ 858858{e 1 59š8 1 5 1 1 1 1 H \" [ 1...</td>\n",
       "    </tr>\n",
       "    <tr>\n",
       "      <th>4</th>\n",
       "      <td>https://m.media-amazon.com/images/I/617Tl40LOX...</td>\n",
       "      <td>731432</td>\n",
       "      <td>item_weight</td>\n",
       "      <td>1400 milligram</td>\n",
       "      <td>Horbäach' HIG H S TR E NGTh PSYLLIUM HUSK PLAN...</td>\n",
       "    </tr>\n",
       "    <tr>\n",
       "      <th>...</th>\n",
       "      <td>...</td>\n",
       "      <td>...</td>\n",
       "      <td>...</td>\n",
       "      <td>...</td>\n",
       "      <td>...</td>\n",
       "    </tr>\n",
       "    <tr>\n",
       "      <th>995</th>\n",
       "      <td>https://m.media-amazon.com/images/I/81uget9aH4...</td>\n",
       "      <td>639090</td>\n",
       "      <td>item_weight</td>\n",
       "      <td>470 gram</td>\n",
       "      <td>Milk CHoCoLATE FLAVORED 1) Qe N2 UTeoz 4702) Q...</td>\n",
       "    </tr>\n",
       "    <tr>\n",
       "      <th>996</th>\n",
       "      <td>https://m.media-amazon.com/images/I/91QvLtiYaB...</td>\n",
       "      <td>365637</td>\n",
       "      <td>item_weight</td>\n",
       "      <td>454 gram</td>\n",
       "      <td>TRADITIONAL BUTTER OOOKIES 80 COPENHAGEN  Oani...</td>\n",
       "    </tr>\n",
       "    <tr>\n",
       "      <th>997</th>\n",
       "      <td>https://m.media-amazon.com/images/I/81lazo6sxl...</td>\n",
       "      <td>601746</td>\n",
       "      <td>item_weight</td>\n",
       "      <td>4.0 ounce</td>\n",
       "      <td>98jv 0 @ eSUNS 2 !qpg @ 28a8 08p0 #84y s8UN8 0...</td>\n",
       "    </tr>\n",
       "    <tr>\n",
       "      <th>998</th>\n",
       "      <td>https://m.media-amazon.com/images/I/81fYO+HP5Q...</td>\n",
       "      <td>186035</td>\n",
       "      <td>voltage</td>\n",
       "      <td>0.5 volt</td>\n",
       "      <td>~ CQBMIELD] apagaoo J20v UMioo AL=  Non-S Lee ...</td>\n",
       "    </tr>\n",
       "    <tr>\n",
       "      <th>999</th>\n",
       "      <td>https://m.media-amazon.com/images/I/91a0S3O4vj...</td>\n",
       "      <td>375816</td>\n",
       "      <td>item_weight</td>\n",
       "      <td>1023.0 gram</td>\n",
       "      <td>Paas 3 = Ss ce ==  4 ~a = ~ 533522&gt; 235 227334...</td>\n",
       "    </tr>\n",
       "  </tbody>\n",
       "</table>\n",
       "<p>4000 rows × 5 columns</p>\n",
       "</div>"
      ],
      "text/plain": [
       "                                            image_link  group_id  entity_name  \\\n",
       "0    https://m.media-amazon.com/images/I/61I9XdN6OF...    748919  item_weight   \n",
       "1    https://m.media-amazon.com/images/I/71gSRbyXmo...    916768  item_volume   \n",
       "2    https://m.media-amazon.com/images/I/61BZ4zrjZX...    459516  item_weight   \n",
       "3    https://m.media-amazon.com/images/I/612mrlqiI4...    459516  item_weight   \n",
       "4    https://m.media-amazon.com/images/I/617Tl40LOX...    731432  item_weight   \n",
       "..                                                 ...       ...          ...   \n",
       "995  https://m.media-amazon.com/images/I/81uget9aH4...    639090  item_weight   \n",
       "996  https://m.media-amazon.com/images/I/91QvLtiYaB...    365637  item_weight   \n",
       "997  https://m.media-amazon.com/images/I/81lazo6sxl...    601746  item_weight   \n",
       "998  https://m.media-amazon.com/images/I/81fYO+HP5Q...    186035      voltage   \n",
       "999  https://m.media-amazon.com/images/I/91a0S3O4vj...    375816  item_weight   \n",
       "\n",
       "       entity_value                                        textfromimg  \n",
       "0        500.0 gram  PROPOS' NATUREI INGRÉDIENT MÉNAGER MULTI-USAGE...  \n",
       "1           1.0 cup  <ss ( € ess< RRIFIC! LEBENSMITTELECHT Cur DAY ...  \n",
       "2        0.709 gram  COMPOSITION Serving Size: Tablet (0.709 g) Eac...  \n",
       "3        0.709 gram  2 5 1 1 J{ 858858{e 1 59š8 1 5 1 1 1 1 H \" [ 1...  \n",
       "4    1400 milligram  Horbäach' HIG H S TR E NGTh PSYLLIUM HUSK PLAN...  \n",
       "..              ...                                                ...  \n",
       "995        470 gram  Milk CHoCoLATE FLAVORED 1) Qe N2 UTeoz 4702) Q...  \n",
       "996        454 gram  TRADITIONAL BUTTER OOOKIES 80 COPENHAGEN  Oani...  \n",
       "997       4.0 ounce  98jv 0 @ eSUNS 2 !qpg @ 28a8 08p0 #84y s8UN8 0...  \n",
       "998        0.5 volt  ~ CQBMIELD] apagaoo J20v UMioo AL=  Non-S Lee ...  \n",
       "999     1023.0 gram  Paas 3 = Ss ce ==  4 ~a = ~ 533522> 235 227334...  \n",
       "\n",
       "[4000 rows x 5 columns]"
      ]
     },
     "execution_count": 4,
     "metadata": {},
     "output_type": "execute_result"
    }
   ],
   "source": [
    "megaframe = megaframe.drop(columns = ['Unnamed: 0'])\n",
    "megaframe"
   ]
  },
  {
   "cell_type": "code",
   "execution_count": 5,
   "id": "81546176",
   "metadata": {
    "execution": {
     "iopub.execute_input": "2024-09-13T17:26:50.855837Z",
     "iopub.status.busy": "2024-09-13T17:26:50.854806Z",
     "iopub.status.idle": "2024-09-13T17:26:50.870070Z",
     "shell.execute_reply": "2024-09-13T17:26:50.868861Z"
    },
    "papermill": {
     "duration": 0.026769,
     "end_time": "2024-09-13T17:26:50.872663",
     "exception": false,
     "start_time": "2024-09-13T17:26:50.845894",
     "status": "completed"
    },
    "tags": []
   },
   "outputs": [
    {
     "data": {
      "text/html": [
       "<div>\n",
       "<style scoped>\n",
       "    .dataframe tbody tr th:only-of-type {\n",
       "        vertical-align: middle;\n",
       "    }\n",
       "\n",
       "    .dataframe tbody tr th {\n",
       "        vertical-align: top;\n",
       "    }\n",
       "\n",
       "    .dataframe thead th {\n",
       "        text-align: right;\n",
       "    }\n",
       "</style>\n",
       "<table border=\"1\" class=\"dataframe\">\n",
       "  <thead>\n",
       "    <tr style=\"text-align: right;\">\n",
       "      <th></th>\n",
       "      <th>image_link</th>\n",
       "      <th>group_id</th>\n",
       "      <th>entity_name</th>\n",
       "      <th>entity_value</th>\n",
       "      <th>textfromimg</th>\n",
       "    </tr>\n",
       "  </thead>\n",
       "  <tbody>\n",
       "    <tr>\n",
       "      <th>0</th>\n",
       "      <td>https://m.media-amazon.com/images/I/61I9XdN6OF...</td>\n",
       "      <td>748919</td>\n",
       "      <td>item_weight</td>\n",
       "      <td>500.0 gram</td>\n",
       "      <td>PROPOS' NATUREI INGRÉDIENT MÉNAGER MULTI-USAGE...</td>\n",
       "    </tr>\n",
       "    <tr>\n",
       "      <th>1</th>\n",
       "      <td>https://m.media-amazon.com/images/I/71gSRbyXmo...</td>\n",
       "      <td>916768</td>\n",
       "      <td>item_volume</td>\n",
       "      <td>1.0 cup</td>\n",
       "      <td>&lt;ss ( € ess&lt; RRIFIC! LEBENSMITTELECHT Cur DAY ...</td>\n",
       "    </tr>\n",
       "    <tr>\n",
       "      <th>2</th>\n",
       "      <td>https://m.media-amazon.com/images/I/61BZ4zrjZX...</td>\n",
       "      <td>459516</td>\n",
       "      <td>item_weight</td>\n",
       "      <td>0.709 gram</td>\n",
       "      <td>COMPOSITION Serving Size: Tablet (0.709 g) Eac...</td>\n",
       "    </tr>\n",
       "    <tr>\n",
       "      <th>3</th>\n",
       "      <td>https://m.media-amazon.com/images/I/612mrlqiI4...</td>\n",
       "      <td>459516</td>\n",
       "      <td>item_weight</td>\n",
       "      <td>0.709 gram</td>\n",
       "      <td>2 5 1 1 J{ 858858{e 1 59š8 1 5 1 1 1 1 H \" [ 1...</td>\n",
       "    </tr>\n",
       "    <tr>\n",
       "      <th>4</th>\n",
       "      <td>https://m.media-amazon.com/images/I/617Tl40LOX...</td>\n",
       "      <td>731432</td>\n",
       "      <td>item_weight</td>\n",
       "      <td>1400 milligram</td>\n",
       "      <td>Horbäach' HIG H S TR E NGTh PSYLLIUM HUSK PLAN...</td>\n",
       "    </tr>\n",
       "    <tr>\n",
       "      <th>...</th>\n",
       "      <td>...</td>\n",
       "      <td>...</td>\n",
       "      <td>...</td>\n",
       "      <td>...</td>\n",
       "      <td>...</td>\n",
       "    </tr>\n",
       "    <tr>\n",
       "      <th>995</th>\n",
       "      <td>https://m.media-amazon.com/images/I/81uget9aH4...</td>\n",
       "      <td>639090</td>\n",
       "      <td>item_weight</td>\n",
       "      <td>470 gram</td>\n",
       "      <td>Milk CHoCoLATE FLAVORED 1) Qe N2 UTeoz 4702) Q...</td>\n",
       "    </tr>\n",
       "    <tr>\n",
       "      <th>996</th>\n",
       "      <td>https://m.media-amazon.com/images/I/91QvLtiYaB...</td>\n",
       "      <td>365637</td>\n",
       "      <td>item_weight</td>\n",
       "      <td>454 gram</td>\n",
       "      <td>TRADITIONAL BUTTER OOOKIES 80 COPENHAGEN  Oani...</td>\n",
       "    </tr>\n",
       "    <tr>\n",
       "      <th>997</th>\n",
       "      <td>https://m.media-amazon.com/images/I/81lazo6sxl...</td>\n",
       "      <td>601746</td>\n",
       "      <td>item_weight</td>\n",
       "      <td>4.0 ounce</td>\n",
       "      <td>98jv 0 @ eSUNS 2 !qpg @ 28a8 08p0 #84y s8UN8 0...</td>\n",
       "    </tr>\n",
       "    <tr>\n",
       "      <th>998</th>\n",
       "      <td>https://m.media-amazon.com/images/I/81fYO+HP5Q...</td>\n",
       "      <td>186035</td>\n",
       "      <td>voltage</td>\n",
       "      <td>0.5 volt</td>\n",
       "      <td>~ CQBMIELD] apagaoo J20v UMioo AL=  Non-S Lee ...</td>\n",
       "    </tr>\n",
       "    <tr>\n",
       "      <th>999</th>\n",
       "      <td>https://m.media-amazon.com/images/I/91a0S3O4vj...</td>\n",
       "      <td>375816</td>\n",
       "      <td>item_weight</td>\n",
       "      <td>1023.0 gram</td>\n",
       "      <td>Paas 3 = Ss ce ==  4 ~a = ~ 533522&gt; 235 227334...</td>\n",
       "    </tr>\n",
       "  </tbody>\n",
       "</table>\n",
       "<p>4000 rows × 5 columns</p>\n",
       "</div>"
      ],
      "text/plain": [
       "                                            image_link  group_id  entity_name  \\\n",
       "0    https://m.media-amazon.com/images/I/61I9XdN6OF...    748919  item_weight   \n",
       "1    https://m.media-amazon.com/images/I/71gSRbyXmo...    916768  item_volume   \n",
       "2    https://m.media-amazon.com/images/I/61BZ4zrjZX...    459516  item_weight   \n",
       "3    https://m.media-amazon.com/images/I/612mrlqiI4...    459516  item_weight   \n",
       "4    https://m.media-amazon.com/images/I/617Tl40LOX...    731432  item_weight   \n",
       "..                                                 ...       ...          ...   \n",
       "995  https://m.media-amazon.com/images/I/81uget9aH4...    639090  item_weight   \n",
       "996  https://m.media-amazon.com/images/I/91QvLtiYaB...    365637  item_weight   \n",
       "997  https://m.media-amazon.com/images/I/81lazo6sxl...    601746  item_weight   \n",
       "998  https://m.media-amazon.com/images/I/81fYO+HP5Q...    186035      voltage   \n",
       "999  https://m.media-amazon.com/images/I/91a0S3O4vj...    375816  item_weight   \n",
       "\n",
       "       entity_value                                        textfromimg  \n",
       "0        500.0 gram  PROPOS' NATUREI INGRÉDIENT MÉNAGER MULTI-USAGE...  \n",
       "1           1.0 cup  <ss ( € ess< RRIFIC! LEBENSMITTELECHT Cur DAY ...  \n",
       "2        0.709 gram  COMPOSITION Serving Size: Tablet (0.709 g) Eac...  \n",
       "3        0.709 gram  2 5 1 1 J{ 858858{e 1 59š8 1 5 1 1 1 1 H \" [ 1...  \n",
       "4    1400 milligram  Horbäach' HIG H S TR E NGTh PSYLLIUM HUSK PLAN...  \n",
       "..              ...                                                ...  \n",
       "995        470 gram  Milk CHoCoLATE FLAVORED 1) Qe N2 UTeoz 4702) Q...  \n",
       "996        454 gram  TRADITIONAL BUTTER OOOKIES 80 COPENHAGEN  Oani...  \n",
       "997       4.0 ounce  98jv 0 @ eSUNS 2 !qpg @ 28a8 08p0 #84y s8UN8 0...  \n",
       "998        0.5 volt  ~ CQBMIELD] apagaoo J20v UMioo AL=  Non-S Lee ...  \n",
       "999     1023.0 gram  Paas 3 = Ss ce ==  4 ~a = ~ 533522> 235 227334...  \n",
       "\n",
       "[4000 rows x 5 columns]"
      ]
     },
     "execution_count": 5,
     "metadata": {},
     "output_type": "execute_result"
    }
   ],
   "source": [
    "megaframe"
   ]
  },
  {
   "cell_type": "markdown",
   "id": "f70e8ce2",
   "metadata": {
    "papermill": {
     "duration": 0.007541,
     "end_time": "2024-09-13T17:26:50.888269",
     "exception": false,
     "start_time": "2024-09-13T17:26:50.880728",
     "status": "completed"
    },
    "tags": []
   },
   "source": [
    "# NLTK "
   ]
  },
  {
   "cell_type": "code",
   "execution_count": 6,
   "id": "bdaebdbd",
   "metadata": {
    "execution": {
     "iopub.execute_input": "2024-09-13T17:26:50.905916Z",
     "iopub.status.busy": "2024-09-13T17:26:50.905454Z",
     "iopub.status.idle": "2024-09-13T17:26:50.915980Z",
     "shell.execute_reply": "2024-09-13T17:26:50.914985Z"
    },
    "papermill": {
     "duration": 0.022699,
     "end_time": "2024-09-13T17:26:50.918808",
     "exception": false,
     "start_time": "2024-09-13T17:26:50.896109",
     "status": "completed"
    },
    "tags": []
   },
   "outputs": [],
   "source": [
    "lemmatizer = WordNetLemmatizer()\n",
    "stop_words = set(stopwords.words('english'))\n",
    "text = \"PROPOS' NATUREI INGRÉDIENT MÉNAGER MULTI-USAGE... and for entity name weight\"\n",
    "\n",
    "def preprocess_text(text):\n",
    "    text = text.lower()\n",
    "    tokens = word_tokenize(text)\n",
    "    tokens = [word for word in tokens if word.isalnum()]\n",
    "    tokens = [word for word in tokens if word not in stop_words]\n",
    "    preprocessed_text = ' '.join(tokens)\n",
    "    return preprocessed_text"
   ]
  },
  {
   "cell_type": "code",
   "execution_count": 7,
   "id": "27c02683",
   "metadata": {
    "execution": {
     "iopub.execute_input": "2024-09-13T17:26:50.937152Z",
     "iopub.status.busy": "2024-09-13T17:26:50.936653Z",
     "iopub.status.idle": "2024-09-13T17:26:50.956678Z",
     "shell.execute_reply": "2024-09-13T17:26:50.955227Z"
    },
    "papermill": {
     "duration": 0.032879,
     "end_time": "2024-09-13T17:26:50.959519",
     "exception": false,
     "start_time": "2024-09-13T17:26:50.926640",
     "status": "completed"
    },
    "tags": []
   },
   "outputs": [
    {
     "name": "stdout",
     "output_type": "stream",
     "text": [
      "propos naturei ingrédient ménager entity name weight\n"
     ]
    }
   ],
   "source": [
    "cleaned_text = preprocess_text(text)\n",
    "print(cleaned_text)"
   ]
  },
  {
   "cell_type": "code",
   "execution_count": 8,
   "id": "7b8605f7",
   "metadata": {
    "execution": {
     "iopub.execute_input": "2024-09-13T17:26:50.977437Z",
     "iopub.status.busy": "2024-09-13T17:26:50.976897Z",
     "iopub.status.idle": "2024-09-13T17:26:54.015719Z",
     "shell.execute_reply": "2024-09-13T17:26:54.014357Z"
    },
    "papermill": {
     "duration": 3.051065,
     "end_time": "2024-09-13T17:26:54.018509",
     "exception": false,
     "start_time": "2024-09-13T17:26:50.967444",
     "status": "completed"
    },
    "tags": []
   },
   "outputs": [
    {
     "name": "stderr",
     "output_type": "stream",
     "text": [
      "100%|██████████| 4000/4000 [00:03<00:00, 1328.32it/s]\n"
     ]
    },
    {
     "data": {
      "text/html": [
       "<div>\n",
       "<style scoped>\n",
       "    .dataframe tbody tr th:only-of-type {\n",
       "        vertical-align: middle;\n",
       "    }\n",
       "\n",
       "    .dataframe tbody tr th {\n",
       "        vertical-align: top;\n",
       "    }\n",
       "\n",
       "    .dataframe thead th {\n",
       "        text-align: right;\n",
       "    }\n",
       "</style>\n",
       "<table border=\"1\" class=\"dataframe\">\n",
       "  <thead>\n",
       "    <tr style=\"text-align: right;\">\n",
       "      <th></th>\n",
       "      <th>image_link</th>\n",
       "      <th>group_id</th>\n",
       "      <th>entity_name</th>\n",
       "      <th>entity_value</th>\n",
       "      <th>textfromimg</th>\n",
       "      <th>processed text</th>\n",
       "    </tr>\n",
       "  </thead>\n",
       "  <tbody>\n",
       "    <tr>\n",
       "      <th>0</th>\n",
       "      <td>https://m.media-amazon.com/images/I/61I9XdN6OF...</td>\n",
       "      <td>748919</td>\n",
       "      <td>item_weight</td>\n",
       "      <td>500.0 gram</td>\n",
       "      <td>PROPOS' NATUREI INGRÉDIENT MÉNAGER MULTI-USAGE...</td>\n",
       "      <td>propos naturei ingrédient ménager terre de som...</td>\n",
       "    </tr>\n",
       "    <tr>\n",
       "      <th>1</th>\n",
       "      <td>https://m.media-amazon.com/images/I/71gSRbyXmo...</td>\n",
       "      <td>916768</td>\n",
       "      <td>item_volume</td>\n",
       "      <td>1.0 cup</td>\n",
       "      <td>&lt;ss ( € ess&lt; RRIFIC! LEBENSMITTELECHT Cur DAY ...</td>\n",
       "      <td>ss ess rrific lebensmittelecht cur day geprägt...</td>\n",
       "    </tr>\n",
       "    <tr>\n",
       "      <th>2</th>\n",
       "      <td>https://m.media-amazon.com/images/I/61BZ4zrjZX...</td>\n",
       "      <td>459516</td>\n",
       "      <td>item_weight</td>\n",
       "      <td>0.709 gram</td>\n",
       "      <td>COMPOSITION Serving Size: Tablet (0.709 g) Eac...</td>\n",
       "      <td>composition serving size tablet g serving cont...</td>\n",
       "    </tr>\n",
       "    <tr>\n",
       "      <th>3</th>\n",
       "      <td>https://m.media-amazon.com/images/I/612mrlqiI4...</td>\n",
       "      <td>459516</td>\n",
       "      <td>item_weight</td>\n",
       "      <td>0.709 gram</td>\n",
       "      <td>2 5 1 1 J{ 858858{e 1 59š8 1 5 1 1 1 1 H \" [ 1...</td>\n",
       "      <td>2 5 1 1 j 858858 e 1 59š8 1 5 1 1 1 1 h 1 ihh ...</td>\n",
       "    </tr>\n",
       "    <tr>\n",
       "      <th>4</th>\n",
       "      <td>https://m.media-amazon.com/images/I/617Tl40LOX...</td>\n",
       "      <td>731432</td>\n",
       "      <td>item_weight</td>\n",
       "      <td>1400 milligram</td>\n",
       "      <td>Horbäach' HIG H S TR E NGTh PSYLLIUM HUSK PLAN...</td>\n",
       "      <td>horbäach hig h tr e ngth psyllium husk plantag...</td>\n",
       "    </tr>\n",
       "    <tr>\n",
       "      <th>...</th>\n",
       "      <td>...</td>\n",
       "      <td>...</td>\n",
       "      <td>...</td>\n",
       "      <td>...</td>\n",
       "      <td>...</td>\n",
       "      <td>...</td>\n",
       "    </tr>\n",
       "    <tr>\n",
       "      <th>995</th>\n",
       "      <td>https://m.media-amazon.com/images/I/81uget9aH4...</td>\n",
       "      <td>639090</td>\n",
       "      <td>item_weight</td>\n",
       "      <td>470 gram</td>\n",
       "      <td>Milk CHoCoLATE FLAVORED 1) Qe N2 UTeoz 4702) Q...</td>\n",
       "      <td>milk chocolate flavored 1 qe n2 uteoz 4702 q 2...</td>\n",
       "    </tr>\n",
       "    <tr>\n",
       "      <th>996</th>\n",
       "      <td>https://m.media-amazon.com/images/I/91QvLtiYaB...</td>\n",
       "      <td>365637</td>\n",
       "      <td>item_weight</td>\n",
       "      <td>454 gram</td>\n",
       "      <td>TRADITIONAL BUTTER OOOKIES 80 COPENHAGEN  Oani...</td>\n",
       "      <td>traditional butter oookies 80 copenhagen oanis...</td>\n",
       "    </tr>\n",
       "    <tr>\n",
       "      <th>997</th>\n",
       "      <td>https://m.media-amazon.com/images/I/81lazo6sxl...</td>\n",
       "      <td>601746</td>\n",
       "      <td>item_weight</td>\n",
       "      <td>4.0 ounce</td>\n",
       "      <td>98jv 0 @ eSUNS 2 !qpg @ 28a8 08p0 #84y s8UN8 0...</td>\n",
       "      <td>98jv 0 esuns 2 qpg 28a8 08p0 84y s8un8 0 b0 w ...</td>\n",
       "    </tr>\n",
       "    <tr>\n",
       "      <th>998</th>\n",
       "      <td>https://m.media-amazon.com/images/I/81fYO+HP5Q...</td>\n",
       "      <td>186035</td>\n",
       "      <td>voltage</td>\n",
       "      <td>0.5 volt</td>\n",
       "      <td>~ CQBMIELD] apagaoo J20v UMioo AL=  Non-S Lee ...</td>\n",
       "      <td>cqbmield apagaoo j20v umioo lee ete aoeauaf au...</td>\n",
       "    </tr>\n",
       "    <tr>\n",
       "      <th>999</th>\n",
       "      <td>https://m.media-amazon.com/images/I/91a0S3O4vj...</td>\n",
       "      <td>375816</td>\n",
       "      <td>item_weight</td>\n",
       "      <td>1023.0 gram</td>\n",
       "      <td>Paas 3 = Ss ce ==  4 ~a = ~ 533522&gt; 235 227334...</td>\n",
       "      <td>paas 3 ss ce 4 533522 235 227334e 555555c 4822...</td>\n",
       "    </tr>\n",
       "  </tbody>\n",
       "</table>\n",
       "<p>4000 rows × 6 columns</p>\n",
       "</div>"
      ],
      "text/plain": [
       "                                            image_link  group_id  entity_name  \\\n",
       "0    https://m.media-amazon.com/images/I/61I9XdN6OF...    748919  item_weight   \n",
       "1    https://m.media-amazon.com/images/I/71gSRbyXmo...    916768  item_volume   \n",
       "2    https://m.media-amazon.com/images/I/61BZ4zrjZX...    459516  item_weight   \n",
       "3    https://m.media-amazon.com/images/I/612mrlqiI4...    459516  item_weight   \n",
       "4    https://m.media-amazon.com/images/I/617Tl40LOX...    731432  item_weight   \n",
       "..                                                 ...       ...          ...   \n",
       "995  https://m.media-amazon.com/images/I/81uget9aH4...    639090  item_weight   \n",
       "996  https://m.media-amazon.com/images/I/91QvLtiYaB...    365637  item_weight   \n",
       "997  https://m.media-amazon.com/images/I/81lazo6sxl...    601746  item_weight   \n",
       "998  https://m.media-amazon.com/images/I/81fYO+HP5Q...    186035      voltage   \n",
       "999  https://m.media-amazon.com/images/I/91a0S3O4vj...    375816  item_weight   \n",
       "\n",
       "       entity_value                                        textfromimg  \\\n",
       "0        500.0 gram  PROPOS' NATUREI INGRÉDIENT MÉNAGER MULTI-USAGE...   \n",
       "1           1.0 cup  <ss ( € ess< RRIFIC! LEBENSMITTELECHT Cur DAY ...   \n",
       "2        0.709 gram  COMPOSITION Serving Size: Tablet (0.709 g) Eac...   \n",
       "3        0.709 gram  2 5 1 1 J{ 858858{e 1 59š8 1 5 1 1 1 1 H \" [ 1...   \n",
       "4    1400 milligram  Horbäach' HIG H S TR E NGTh PSYLLIUM HUSK PLAN...   \n",
       "..              ...                                                ...   \n",
       "995        470 gram  Milk CHoCoLATE FLAVORED 1) Qe N2 UTeoz 4702) Q...   \n",
       "996        454 gram  TRADITIONAL BUTTER OOOKIES 80 COPENHAGEN  Oani...   \n",
       "997       4.0 ounce  98jv 0 @ eSUNS 2 !qpg @ 28a8 08p0 #84y s8UN8 0...   \n",
       "998        0.5 volt  ~ CQBMIELD] apagaoo J20v UMioo AL=  Non-S Lee ...   \n",
       "999     1023.0 gram  Paas 3 = Ss ce ==  4 ~a = ~ 533522> 235 227334...   \n",
       "\n",
       "                                        processed text  \n",
       "0    propos naturei ingrédient ménager terre de som...  \n",
       "1    ss ess rrific lebensmittelecht cur day geprägt...  \n",
       "2    composition serving size tablet g serving cont...  \n",
       "3    2 5 1 1 j 858858 e 1 59š8 1 5 1 1 1 1 h 1 ihh ...  \n",
       "4    horbäach hig h tr e ngth psyllium husk plantag...  \n",
       "..                                                 ...  \n",
       "995  milk chocolate flavored 1 qe n2 uteoz 4702 q 2...  \n",
       "996  traditional butter oookies 80 copenhagen oanis...  \n",
       "997  98jv 0 esuns 2 qpg 28a8 08p0 84y s8un8 0 b0 w ...  \n",
       "998  cqbmield apagaoo j20v umioo lee ete aoeauaf au...  \n",
       "999  paas 3 ss ce 4 533522 235 227334e 555555c 4822...  \n",
       "\n",
       "[4000 rows x 6 columns]"
      ]
     },
     "execution_count": 8,
     "metadata": {},
     "output_type": "execute_result"
    }
   ],
   "source": [
    "listtext = list(megaframe['textfromimg'])\n",
    "new_text = []\n",
    "for lt in tqdm(listtext):\n",
    "    text = preprocess_text(str(lt))\n",
    "    text = text.lower()\n",
    "    new_text.append(text)\n",
    "megaframe['processed text'] = new_text\n",
    "megaframe"
   ]
  },
  {
   "cell_type": "markdown",
   "id": "c0f1cd64",
   "metadata": {
    "papermill": {
     "duration": 0.010869,
     "end_time": "2024-09-13T17:26:54.040868",
     "exception": false,
     "start_time": "2024-09-13T17:26:54.029999",
     "status": "completed"
    },
    "tags": []
   },
   "source": [
    "# uniques"
   ]
  },
  {
   "cell_type": "code",
   "execution_count": 9,
   "id": "df2c5c91",
   "metadata": {
    "execution": {
     "iopub.execute_input": "2024-09-13T17:26:54.066092Z",
     "iopub.status.busy": "2024-09-13T17:26:54.065538Z",
     "iopub.status.idle": "2024-09-13T17:26:54.079182Z",
     "shell.execute_reply": "2024-09-13T17:26:54.078072Z"
    },
    "papermill": {
     "duration": 0.029897,
     "end_time": "2024-09-13T17:26:54.082330",
     "exception": false,
     "start_time": "2024-09-13T17:26:54.052433",
     "status": "completed"
    },
    "tags": []
   },
   "outputs": [
    {
     "data": {
      "text/plain": [
       "['gram',\n",
       " 'cup',\n",
       " 'milligram',\n",
       " 'kilogram',\n",
       " 'ounce',\n",
       " 'gallon',\n",
       " 'volt',\n",
       " 'watt',\n",
       " 'pound',\n",
       " 'millilitre',\n",
       " 'foot',\n",
       " 'ton',\n",
       " 'decilitre',\n",
       " 'inch',\n",
       " 'litre',\n",
       " 'microgram',\n",
       " 'centimetre',\n",
       " 'quart',\n",
       " 'horsepower',\n",
       " 'kilowatt']"
      ]
     },
     "execution_count": 9,
     "metadata": {},
     "output_type": "execute_result"
    }
   ],
   "source": [
    "unique_units = []\n",
    "for item in megaframe['entity_value'].unique():\n",
    "    item = item.split(' ')[-1]\n",
    "    if item not in unique_units:\n",
    "        unique_units.append(item)\n",
    "unique_units"
   ]
  },
  {
   "cell_type": "markdown",
   "id": "2635defa",
   "metadata": {
    "papermill": {
     "duration": 0.011132,
     "end_time": "2024-09-13T17:26:54.106276",
     "exception": false,
     "start_time": "2024-09-13T17:26:54.095144",
     "status": "completed"
    },
    "tags": []
   },
   "source": [
    "# cover full form conflict"
   ]
  },
  {
   "cell_type": "code",
   "execution_count": 10,
   "id": "43fb6895",
   "metadata": {
    "execution": {
     "iopub.execute_input": "2024-09-13T17:26:54.131771Z",
     "iopub.status.busy": "2024-09-13T17:26:54.130615Z",
     "iopub.status.idle": "2024-09-13T17:26:54.139827Z",
     "shell.execute_reply": "2024-09-13T17:26:54.138413Z"
    },
    "papermill": {
     "duration": 0.024551,
     "end_time": "2024-09-13T17:26:54.142292",
     "exception": false,
     "start_time": "2024-09-13T17:26:54.117741",
     "status": "completed"
    },
    "tags": []
   },
   "outputs": [],
   "source": [
    "unit_dictionary = {\n",
    "    'g': 'gram',\n",
    "    'grams': 'gram',\n",
    "    'kg': 'kilogram',\n",
    "    'mg': 'milligram',\n",
    "    'cup': 'cup',\n",
    "    'mg': 'milligram',\n",
    "    'kg': 'kilogram',\n",
    "    'oz': 'ounce',\n",
    "    'gallon': 'gallon',\n",
    "    'v': 'volt',\n",
    "    'volt': 'volt',\n",
    "    'w': 'watt',\n",
    "    'watt': 'watt',\n",
    "    'lb': 'pound',\n",
    "    'pound': 'pound',\n",
    "    'ml': 'millilitre',\n",
    "    'millilitre': 'millilitre',\n",
    "    'ft': 'foot',\n",
    "    'foot': 'foot',\n",
    "    'ton': 'ton',\n",
    "    'dl': 'decilitre',\n",
    "    'decilitre': 'decilitre',\n",
    "    'in': 'inch',\n",
    "    'inch': 'inch',\n",
    "    'l': 'litre',\n",
    "    'litre': 'litre',\n",
    "    'mcg': 'microgram',\n",
    "    'microgram': 'microgram',\n",
    "    'cm': 'centimetre',\n",
    "    'centimetre': 'centimetre',\n",
    "    'qt': 'quart',\n",
    "    'quart': 'quart',\n",
    "    'hp': 'horsepower',\n",
    "    'horsepower': 'horsepower',\n",
    "    'kw': 'kilowatt',\n",
    "    'kilowatt': 'kilowatt'\n",
    "}"
   ]
  },
  {
   "cell_type": "code",
   "execution_count": 11,
   "id": "666a561d",
   "metadata": {
    "execution": {
     "iopub.execute_input": "2024-09-13T17:26:54.167557Z",
     "iopub.status.busy": "2024-09-13T17:26:54.167088Z",
     "iopub.status.idle": "2024-09-13T17:26:54.176698Z",
     "shell.execute_reply": "2024-09-13T17:26:54.175602Z"
    },
    "papermill": {
     "duration": 0.025626,
     "end_time": "2024-09-13T17:26:54.179474",
     "exception": false,
     "start_time": "2024-09-13T17:26:54.153848",
     "status": "completed"
    },
    "tags": []
   },
   "outputs": [
    {
     "data": {
      "text/plain": [
       "'my weight is 500 gram'"
      ]
     },
     "execution_count": 11,
     "metadata": {},
     "output_type": "execute_result"
    }
   ],
   "source": [
    "def handle_shorters(text):\n",
    "    textparts = text.split(' ')\n",
    "    for key in unit_dictionary.keys():\n",
    "        if key in textparts:\n",
    "            index = textparts.index(key)\n",
    "            textparts[index] = unit_dictionary[key]\n",
    "            \n",
    "    textparts = ' '.join(textparts)\n",
    "    return textparts\n",
    "\n",
    "handle_shorters('my weight is 500 g')"
   ]
  },
  {
   "cell_type": "code",
   "execution_count": 12,
   "id": "0c7dacef",
   "metadata": {
    "execution": {
     "iopub.execute_input": "2024-09-13T17:26:54.204547Z",
     "iopub.status.busy": "2024-09-13T17:26:54.204135Z",
     "iopub.status.idle": "2024-09-13T17:26:54.209622Z",
     "shell.execute_reply": "2024-09-13T17:26:54.208420Z"
    },
    "papermill": {
     "duration": 0.021385,
     "end_time": "2024-09-13T17:26:54.212494",
     "exception": false,
     "start_time": "2024-09-13T17:26:54.191109",
     "status": "completed"
    },
    "tags": []
   },
   "outputs": [],
   "source": [
    "processed_text = megaframe['processed text']"
   ]
  },
  {
   "cell_type": "code",
   "execution_count": 13,
   "id": "d198f107",
   "metadata": {
    "execution": {
     "iopub.execute_input": "2024-09-13T17:26:54.237299Z",
     "iopub.status.busy": "2024-09-13T17:26:54.236810Z",
     "iopub.status.idle": "2024-09-13T17:26:54.359804Z",
     "shell.execute_reply": "2024-09-13T17:26:54.358760Z"
    },
    "papermill": {
     "duration": 0.138687,
     "end_time": "2024-09-13T17:26:54.362735",
     "exception": false,
     "start_time": "2024-09-13T17:26:54.224048",
     "status": "completed"
    },
    "tags": []
   },
   "outputs": [],
   "source": [
    "new_processed_text = []\n",
    "\n",
    "for text in processed_text:\n",
    "    new_text = handle_shorters(text)\n",
    "    new_processed_text.append(new_text)\n",
    "    \n",
    "megaframe['new processed text'] = new_processed_text"
   ]
  },
  {
   "cell_type": "code",
   "execution_count": 14,
   "id": "4d964915",
   "metadata": {
    "execution": {
     "iopub.execute_input": "2024-09-13T17:26:54.387647Z",
     "iopub.status.busy": "2024-09-13T17:26:54.387174Z",
     "iopub.status.idle": "2024-09-13T17:26:54.574414Z",
     "shell.execute_reply": "2024-09-13T17:26:54.573371Z"
    },
    "papermill": {
     "duration": 0.20292,
     "end_time": "2024-09-13T17:26:54.577278",
     "exception": false,
     "start_time": "2024-09-13T17:26:54.374358",
     "status": "completed"
    },
    "tags": []
   },
   "outputs": [],
   "source": [
    "megaframe.to_csv('dataset.csv')"
   ]
  },
  {
   "cell_type": "code",
   "execution_count": null,
   "id": "e0430caa",
   "metadata": {
    "papermill": {
     "duration": 0.011374,
     "end_time": "2024-09-13T17:26:54.600146",
     "exception": false,
     "start_time": "2024-09-13T17:26:54.588772",
     "status": "completed"
    },
    "tags": []
   },
   "outputs": [],
   "source": []
  }
 ],
 "metadata": {
  "kaggle": {
   "accelerator": "none",
   "dataSources": [
    {
     "datasetId": 5690421,
     "sourceId": 9383984,
     "sourceType": "datasetVersion"
    }
   ],
   "dockerImageVersionId": 30761,
   "isGpuEnabled": false,
   "isInternetEnabled": true,
   "language": "python",
   "sourceType": "notebook"
  },
  "kernelspec": {
   "display_name": "Python 3",
   "language": "python",
   "name": "python3"
  },
  "language_info": {
   "codemirror_mode": {
    "name": "ipython",
    "version": 3
   },
   "file_extension": ".py",
   "mimetype": "text/x-python",
   "name": "python",
   "nbconvert_exporter": "python",
   "pygments_lexer": "ipython3",
   "version": "3.10.14"
  },
  "papermill": {
   "default_parameters": {},
   "duration": 12.408996,
   "end_time": "2024-09-13T17:26:55.333772",
   "environment_variables": {},
   "exception": null,
   "input_path": "__notebook__.ipynb",
   "output_path": "__notebook__.ipynb",
   "parameters": {},
   "start_time": "2024-09-13T17:26:42.924776",
   "version": "2.6.0"
  }
 },
 "nbformat": 4,
 "nbformat_minor": 5
}

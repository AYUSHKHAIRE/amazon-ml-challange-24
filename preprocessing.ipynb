{
 "cells": [
  {
   "cell_type": "code",
   "execution_count": 1,
   "id": "e40196d8",
   "metadata": {
    "_cell_guid": "b1076dfc-b9ad-4769-8c92-a6c4dae69d19",
    "_uuid": "8f2839f25d086af736a60e9eeb907d3b93b6e0e5",
    "execution": {
     "iopub.execute_input": "2024-09-17T08:19:07.663641Z",
     "iopub.status.busy": "2024-09-17T08:19:07.662828Z",
     "iopub.status.idle": "2024-09-17T08:19:08.355029Z",
     "shell.execute_reply": "2024-09-17T08:19:08.353856Z"
    },
    "papermill": {
     "duration": 0.701465,
     "end_time": "2024-09-17T08:19:08.357194",
     "exception": false,
     "start_time": "2024-09-17T08:19:07.655729",
     "status": "completed"
    },
    "tags": []
   },
   "outputs": [
    {
     "name": "stdout",
     "output_type": "stream",
     "text": [
      "/kaggle/input/finaltest.csv\n",
      "/kaggle/input/file1.csv\n",
      "/kaggle/input/file2.csv\n",
      "/kaggle/input/file4.csv\n",
      "/kaggle/input/file3.csv\n",
      "/kaggle/input/dataset.csv\n"
     ]
    }
   ],
   "source": [
    "# This Python 3 environment comes with many helpful analytics libraries installed\n",
    "# It is defined by the kaggle/python Docker image: https://github.com/kaggle/docker-python\n",
    "# For example, here's several helpful packages to load\n",
    "\n",
    "import numpy as np # linear algebra\n",
    "import pandas as pd # data processing, CSV file I/O (e.g. pd.read_csv)\n",
    "\n",
    "# Input data files are available in the read-only \"../input/\" directory\n",
    "# For example, running this (by clicking run or pressing Shift+Enter) will list all files under the input directory\n",
    "\n",
    "import os\n",
    "for dirname, _, filenames in os.walk('/kaggle/input'):\n",
    "    for filename in filenames:\n",
    "        print(os.path.join(dirname, filename))\n",
    "\n",
    "# You can write up to 20GB to the current directory (/kaggle/working/) that gets preserved as output when you create a version using \"Save & Run All\" \n",
    "# You can also write temporary files to /kaggle/temp/, but they won't be saved outside of the current session"
   ]
  },
  {
   "cell_type": "code",
   "execution_count": 2,
   "id": "5ccb02ef",
   "metadata": {
    "execution": {
     "iopub.execute_input": "2024-09-17T08:19:08.369147Z",
     "iopub.status.busy": "2024-09-17T08:19:08.368777Z",
     "iopub.status.idle": "2024-09-17T08:19:08.383834Z",
     "shell.execute_reply": "2024-09-17T08:19:08.383113Z"
    },
    "papermill": {
     "duration": 0.023351,
     "end_time": "2024-09-17T08:19:08.386098",
     "exception": false,
     "start_time": "2024-09-17T08:19:08.362747",
     "status": "completed"
    },
    "tags": []
   },
   "outputs": [],
   "source": [
    "import pandas as pd\n",
    "import numpy as np\n",
    "import os\n",
    "\n",
    "import string\n",
    "from tqdm import tqdm\n",
    "import re"
   ]
  },
  {
   "cell_type": "code",
   "execution_count": 3,
   "id": "07c6dbe8",
   "metadata": {
    "execution": {
     "iopub.execute_input": "2024-09-17T08:19:08.397647Z",
     "iopub.status.busy": "2024-09-17T08:19:08.397377Z",
     "iopub.status.idle": "2024-09-17T08:19:09.230451Z",
     "shell.execute_reply": "2024-09-17T08:19:09.229085Z"
    },
    "papermill": {
     "duration": 0.840677,
     "end_time": "2024-09-17T08:19:09.232138",
     "exception": true,
     "start_time": "2024-09-17T08:19:08.391461",
     "status": "failed"
    },
    "tags": []
   },
   "outputs": [
    {
     "ename": "FileNotFoundError",
     "evalue": "[Errno 2] No such file or directory: '/kaggle/input/amazon-ml-images/finaltest.csv'",
     "output_type": "error",
     "traceback": [
      "\u001b[0;31m---------------------------------------------------------------------------\u001b[0m",
      "\u001b[0;31mFileNotFoundError\u001b[0m                         Traceback (most recent call last)",
      "Cell \u001b[0;32mIn[3], line 1\u001b[0m\n\u001b[0;32m----> 1\u001b[0m megaframe\u001b[38;5;241m=\u001b[39m\u001b[43mpd\u001b[49m\u001b[38;5;241;43m.\u001b[39;49m\u001b[43mread_csv\u001b[49m\u001b[43m(\u001b[49m\u001b[38;5;124;43m'\u001b[39;49m\u001b[38;5;124;43m/kaggle/input/amazon-ml-images/finaltest.csv\u001b[39;49m\u001b[38;5;124;43m'\u001b[39;49m\u001b[43m)\u001b[49m\n\u001b[1;32m      2\u001b[0m megaframe\n",
      "File \u001b[0;32m/opt/conda/lib/python3.10/site-packages/pandas/io/parsers/readers.py:1026\u001b[0m, in \u001b[0;36mread_csv\u001b[0;34m(filepath_or_buffer, sep, delimiter, header, names, index_col, usecols, dtype, engine, converters, true_values, false_values, skipinitialspace, skiprows, skipfooter, nrows, na_values, keep_default_na, na_filter, verbose, skip_blank_lines, parse_dates, infer_datetime_format, keep_date_col, date_parser, date_format, dayfirst, cache_dates, iterator, chunksize, compression, thousands, decimal, lineterminator, quotechar, quoting, doublequote, escapechar, comment, encoding, encoding_errors, dialect, on_bad_lines, delim_whitespace, low_memory, memory_map, float_precision, storage_options, dtype_backend)\u001b[0m\n\u001b[1;32m   1013\u001b[0m kwds_defaults \u001b[38;5;241m=\u001b[39m _refine_defaults_read(\n\u001b[1;32m   1014\u001b[0m     dialect,\n\u001b[1;32m   1015\u001b[0m     delimiter,\n\u001b[0;32m   (...)\u001b[0m\n\u001b[1;32m   1022\u001b[0m     dtype_backend\u001b[38;5;241m=\u001b[39mdtype_backend,\n\u001b[1;32m   1023\u001b[0m )\n\u001b[1;32m   1024\u001b[0m kwds\u001b[38;5;241m.\u001b[39mupdate(kwds_defaults)\n\u001b[0;32m-> 1026\u001b[0m \u001b[38;5;28;01mreturn\u001b[39;00m \u001b[43m_read\u001b[49m\u001b[43m(\u001b[49m\u001b[43mfilepath_or_buffer\u001b[49m\u001b[43m,\u001b[49m\u001b[43m \u001b[49m\u001b[43mkwds\u001b[49m\u001b[43m)\u001b[49m\n",
      "File \u001b[0;32m/opt/conda/lib/python3.10/site-packages/pandas/io/parsers/readers.py:620\u001b[0m, in \u001b[0;36m_read\u001b[0;34m(filepath_or_buffer, kwds)\u001b[0m\n\u001b[1;32m    617\u001b[0m _validate_names(kwds\u001b[38;5;241m.\u001b[39mget(\u001b[38;5;124m\"\u001b[39m\u001b[38;5;124mnames\u001b[39m\u001b[38;5;124m\"\u001b[39m, \u001b[38;5;28;01mNone\u001b[39;00m))\n\u001b[1;32m    619\u001b[0m \u001b[38;5;66;03m# Create the parser.\u001b[39;00m\n\u001b[0;32m--> 620\u001b[0m parser \u001b[38;5;241m=\u001b[39m \u001b[43mTextFileReader\u001b[49m\u001b[43m(\u001b[49m\u001b[43mfilepath_or_buffer\u001b[49m\u001b[43m,\u001b[49m\u001b[43m \u001b[49m\u001b[38;5;241;43m*\u001b[39;49m\u001b[38;5;241;43m*\u001b[39;49m\u001b[43mkwds\u001b[49m\u001b[43m)\u001b[49m\n\u001b[1;32m    622\u001b[0m \u001b[38;5;28;01mif\u001b[39;00m chunksize \u001b[38;5;129;01mor\u001b[39;00m iterator:\n\u001b[1;32m    623\u001b[0m     \u001b[38;5;28;01mreturn\u001b[39;00m parser\n",
      "File \u001b[0;32m/opt/conda/lib/python3.10/site-packages/pandas/io/parsers/readers.py:1620\u001b[0m, in \u001b[0;36mTextFileReader.__init__\u001b[0;34m(self, f, engine, **kwds)\u001b[0m\n\u001b[1;32m   1617\u001b[0m     \u001b[38;5;28mself\u001b[39m\u001b[38;5;241m.\u001b[39moptions[\u001b[38;5;124m\"\u001b[39m\u001b[38;5;124mhas_index_names\u001b[39m\u001b[38;5;124m\"\u001b[39m] \u001b[38;5;241m=\u001b[39m kwds[\u001b[38;5;124m\"\u001b[39m\u001b[38;5;124mhas_index_names\u001b[39m\u001b[38;5;124m\"\u001b[39m]\n\u001b[1;32m   1619\u001b[0m \u001b[38;5;28mself\u001b[39m\u001b[38;5;241m.\u001b[39mhandles: IOHandles \u001b[38;5;241m|\u001b[39m \u001b[38;5;28;01mNone\u001b[39;00m \u001b[38;5;241m=\u001b[39m \u001b[38;5;28;01mNone\u001b[39;00m\n\u001b[0;32m-> 1620\u001b[0m \u001b[38;5;28mself\u001b[39m\u001b[38;5;241m.\u001b[39m_engine \u001b[38;5;241m=\u001b[39m \u001b[38;5;28;43mself\u001b[39;49m\u001b[38;5;241;43m.\u001b[39;49m\u001b[43m_make_engine\u001b[49m\u001b[43m(\u001b[49m\u001b[43mf\u001b[49m\u001b[43m,\u001b[49m\u001b[43m \u001b[49m\u001b[38;5;28;43mself\u001b[39;49m\u001b[38;5;241;43m.\u001b[39;49m\u001b[43mengine\u001b[49m\u001b[43m)\u001b[49m\n",
      "File \u001b[0;32m/opt/conda/lib/python3.10/site-packages/pandas/io/parsers/readers.py:1880\u001b[0m, in \u001b[0;36mTextFileReader._make_engine\u001b[0;34m(self, f, engine)\u001b[0m\n\u001b[1;32m   1878\u001b[0m     \u001b[38;5;28;01mif\u001b[39;00m \u001b[38;5;124m\"\u001b[39m\u001b[38;5;124mb\u001b[39m\u001b[38;5;124m\"\u001b[39m \u001b[38;5;129;01mnot\u001b[39;00m \u001b[38;5;129;01min\u001b[39;00m mode:\n\u001b[1;32m   1879\u001b[0m         mode \u001b[38;5;241m+\u001b[39m\u001b[38;5;241m=\u001b[39m \u001b[38;5;124m\"\u001b[39m\u001b[38;5;124mb\u001b[39m\u001b[38;5;124m\"\u001b[39m\n\u001b[0;32m-> 1880\u001b[0m \u001b[38;5;28mself\u001b[39m\u001b[38;5;241m.\u001b[39mhandles \u001b[38;5;241m=\u001b[39m \u001b[43mget_handle\u001b[49m\u001b[43m(\u001b[49m\n\u001b[1;32m   1881\u001b[0m \u001b[43m    \u001b[49m\u001b[43mf\u001b[49m\u001b[43m,\u001b[49m\n\u001b[1;32m   1882\u001b[0m \u001b[43m    \u001b[49m\u001b[43mmode\u001b[49m\u001b[43m,\u001b[49m\n\u001b[1;32m   1883\u001b[0m \u001b[43m    \u001b[49m\u001b[43mencoding\u001b[49m\u001b[38;5;241;43m=\u001b[39;49m\u001b[38;5;28;43mself\u001b[39;49m\u001b[38;5;241;43m.\u001b[39;49m\u001b[43moptions\u001b[49m\u001b[38;5;241;43m.\u001b[39;49m\u001b[43mget\u001b[49m\u001b[43m(\u001b[49m\u001b[38;5;124;43m\"\u001b[39;49m\u001b[38;5;124;43mencoding\u001b[39;49m\u001b[38;5;124;43m\"\u001b[39;49m\u001b[43m,\u001b[49m\u001b[43m \u001b[49m\u001b[38;5;28;43;01mNone\u001b[39;49;00m\u001b[43m)\u001b[49m\u001b[43m,\u001b[49m\n\u001b[1;32m   1884\u001b[0m \u001b[43m    \u001b[49m\u001b[43mcompression\u001b[49m\u001b[38;5;241;43m=\u001b[39;49m\u001b[38;5;28;43mself\u001b[39;49m\u001b[38;5;241;43m.\u001b[39;49m\u001b[43moptions\u001b[49m\u001b[38;5;241;43m.\u001b[39;49m\u001b[43mget\u001b[49m\u001b[43m(\u001b[49m\u001b[38;5;124;43m\"\u001b[39;49m\u001b[38;5;124;43mcompression\u001b[39;49m\u001b[38;5;124;43m\"\u001b[39;49m\u001b[43m,\u001b[49m\u001b[43m \u001b[49m\u001b[38;5;28;43;01mNone\u001b[39;49;00m\u001b[43m)\u001b[49m\u001b[43m,\u001b[49m\n\u001b[1;32m   1885\u001b[0m \u001b[43m    \u001b[49m\u001b[43mmemory_map\u001b[49m\u001b[38;5;241;43m=\u001b[39;49m\u001b[38;5;28;43mself\u001b[39;49m\u001b[38;5;241;43m.\u001b[39;49m\u001b[43moptions\u001b[49m\u001b[38;5;241;43m.\u001b[39;49m\u001b[43mget\u001b[49m\u001b[43m(\u001b[49m\u001b[38;5;124;43m\"\u001b[39;49m\u001b[38;5;124;43mmemory_map\u001b[39;49m\u001b[38;5;124;43m\"\u001b[39;49m\u001b[43m,\u001b[49m\u001b[43m \u001b[49m\u001b[38;5;28;43;01mFalse\u001b[39;49;00m\u001b[43m)\u001b[49m\u001b[43m,\u001b[49m\n\u001b[1;32m   1886\u001b[0m \u001b[43m    \u001b[49m\u001b[43mis_text\u001b[49m\u001b[38;5;241;43m=\u001b[39;49m\u001b[43mis_text\u001b[49m\u001b[43m,\u001b[49m\n\u001b[1;32m   1887\u001b[0m \u001b[43m    \u001b[49m\u001b[43merrors\u001b[49m\u001b[38;5;241;43m=\u001b[39;49m\u001b[38;5;28;43mself\u001b[39;49m\u001b[38;5;241;43m.\u001b[39;49m\u001b[43moptions\u001b[49m\u001b[38;5;241;43m.\u001b[39;49m\u001b[43mget\u001b[49m\u001b[43m(\u001b[49m\u001b[38;5;124;43m\"\u001b[39;49m\u001b[38;5;124;43mencoding_errors\u001b[39;49m\u001b[38;5;124;43m\"\u001b[39;49m\u001b[43m,\u001b[49m\u001b[43m \u001b[49m\u001b[38;5;124;43m\"\u001b[39;49m\u001b[38;5;124;43mstrict\u001b[39;49m\u001b[38;5;124;43m\"\u001b[39;49m\u001b[43m)\u001b[49m\u001b[43m,\u001b[49m\n\u001b[1;32m   1888\u001b[0m \u001b[43m    \u001b[49m\u001b[43mstorage_options\u001b[49m\u001b[38;5;241;43m=\u001b[39;49m\u001b[38;5;28;43mself\u001b[39;49m\u001b[38;5;241;43m.\u001b[39;49m\u001b[43moptions\u001b[49m\u001b[38;5;241;43m.\u001b[39;49m\u001b[43mget\u001b[49m\u001b[43m(\u001b[49m\u001b[38;5;124;43m\"\u001b[39;49m\u001b[38;5;124;43mstorage_options\u001b[39;49m\u001b[38;5;124;43m\"\u001b[39;49m\u001b[43m,\u001b[49m\u001b[43m \u001b[49m\u001b[38;5;28;43;01mNone\u001b[39;49;00m\u001b[43m)\u001b[49m\u001b[43m,\u001b[49m\n\u001b[1;32m   1889\u001b[0m \u001b[43m\u001b[49m\u001b[43m)\u001b[49m\n\u001b[1;32m   1890\u001b[0m \u001b[38;5;28;01massert\u001b[39;00m \u001b[38;5;28mself\u001b[39m\u001b[38;5;241m.\u001b[39mhandles \u001b[38;5;129;01mis\u001b[39;00m \u001b[38;5;129;01mnot\u001b[39;00m \u001b[38;5;28;01mNone\u001b[39;00m\n\u001b[1;32m   1891\u001b[0m f \u001b[38;5;241m=\u001b[39m \u001b[38;5;28mself\u001b[39m\u001b[38;5;241m.\u001b[39mhandles\u001b[38;5;241m.\u001b[39mhandle\n",
      "File \u001b[0;32m/opt/conda/lib/python3.10/site-packages/pandas/io/common.py:873\u001b[0m, in \u001b[0;36mget_handle\u001b[0;34m(path_or_buf, mode, encoding, compression, memory_map, is_text, errors, storage_options)\u001b[0m\n\u001b[1;32m    868\u001b[0m \u001b[38;5;28;01melif\u001b[39;00m \u001b[38;5;28misinstance\u001b[39m(handle, \u001b[38;5;28mstr\u001b[39m):\n\u001b[1;32m    869\u001b[0m     \u001b[38;5;66;03m# Check whether the filename is to be opened in binary mode.\u001b[39;00m\n\u001b[1;32m    870\u001b[0m     \u001b[38;5;66;03m# Binary mode does not support 'encoding' and 'newline'.\u001b[39;00m\n\u001b[1;32m    871\u001b[0m     \u001b[38;5;28;01mif\u001b[39;00m ioargs\u001b[38;5;241m.\u001b[39mencoding \u001b[38;5;129;01mand\u001b[39;00m \u001b[38;5;124m\"\u001b[39m\u001b[38;5;124mb\u001b[39m\u001b[38;5;124m\"\u001b[39m \u001b[38;5;129;01mnot\u001b[39;00m \u001b[38;5;129;01min\u001b[39;00m ioargs\u001b[38;5;241m.\u001b[39mmode:\n\u001b[1;32m    872\u001b[0m         \u001b[38;5;66;03m# Encoding\u001b[39;00m\n\u001b[0;32m--> 873\u001b[0m         handle \u001b[38;5;241m=\u001b[39m \u001b[38;5;28;43mopen\u001b[39;49m\u001b[43m(\u001b[49m\n\u001b[1;32m    874\u001b[0m \u001b[43m            \u001b[49m\u001b[43mhandle\u001b[49m\u001b[43m,\u001b[49m\n\u001b[1;32m    875\u001b[0m \u001b[43m            \u001b[49m\u001b[43mioargs\u001b[49m\u001b[38;5;241;43m.\u001b[39;49m\u001b[43mmode\u001b[49m\u001b[43m,\u001b[49m\n\u001b[1;32m    876\u001b[0m \u001b[43m            \u001b[49m\u001b[43mencoding\u001b[49m\u001b[38;5;241;43m=\u001b[39;49m\u001b[43mioargs\u001b[49m\u001b[38;5;241;43m.\u001b[39;49m\u001b[43mencoding\u001b[49m\u001b[43m,\u001b[49m\n\u001b[1;32m    877\u001b[0m \u001b[43m            \u001b[49m\u001b[43merrors\u001b[49m\u001b[38;5;241;43m=\u001b[39;49m\u001b[43merrors\u001b[49m\u001b[43m,\u001b[49m\n\u001b[1;32m    878\u001b[0m \u001b[43m            \u001b[49m\u001b[43mnewline\u001b[49m\u001b[38;5;241;43m=\u001b[39;49m\u001b[38;5;124;43m\"\u001b[39;49m\u001b[38;5;124;43m\"\u001b[39;49m\u001b[43m,\u001b[49m\n\u001b[1;32m    879\u001b[0m \u001b[43m        \u001b[49m\u001b[43m)\u001b[49m\n\u001b[1;32m    880\u001b[0m     \u001b[38;5;28;01melse\u001b[39;00m:\n\u001b[1;32m    881\u001b[0m         \u001b[38;5;66;03m# Binary mode\u001b[39;00m\n\u001b[1;32m    882\u001b[0m         handle \u001b[38;5;241m=\u001b[39m \u001b[38;5;28mopen\u001b[39m(handle, ioargs\u001b[38;5;241m.\u001b[39mmode)\n",
      "\u001b[0;31mFileNotFoundError\u001b[0m: [Errno 2] No such file or directory: '/kaggle/input/amazon-ml-images/finaltest.csv'"
     ]
    }
   ],
   "source": [
    "megaframe=pd.read_csv('/kaggle/input/amazon-ml-images/finaltest.csv')\n",
    "megaframe"
   ]
  },
  {
   "cell_type": "code",
   "execution_count": null,
   "id": "78728a1a",
   "metadata": {
    "execution": {
     "iopub.execute_input": "2024-09-15T15:06:35.635141Z",
     "iopub.status.busy": "2024-09-15T15:06:35.634744Z",
     "iopub.status.idle": "2024-09-15T15:06:35.655206Z",
     "shell.execute_reply": "2024-09-15T15:06:35.654198Z",
     "shell.execute_reply.started": "2024-09-15T15:06:35.635096Z"
    },
    "papermill": {
     "duration": null,
     "end_time": null,
     "exception": null,
     "start_time": null,
     "status": "pending"
    },
    "tags": []
   },
   "outputs": [],
   "source": [
    "megaframe = megaframe.drop(['Unnamed: 0'], axis=1)\n",
    "megaframe"
   ]
  },
  {
   "cell_type": "code",
   "execution_count": null,
   "id": "809f4cca",
   "metadata": {
    "execution": {
     "iopub.execute_input": "2024-09-15T15:06:35.656960Z",
     "iopub.status.busy": "2024-09-15T15:06:35.656548Z",
     "iopub.status.idle": "2024-09-15T15:06:35.664477Z",
     "shell.execute_reply": "2024-09-15T15:06:35.663514Z",
     "shell.execute_reply.started": "2024-09-15T15:06:35.656913Z"
    },
    "papermill": {
     "duration": null,
     "end_time": null,
     "exception": null,
     "start_time": null,
     "status": "pending"
    },
    "tags": []
   },
   "outputs": [],
   "source": [
    "unit_abbreviation_map = {\n",
    "    'g': 'gram',\n",
    "    'grams': 'gram',\n",
    "    'kg': 'kilogram',\n",
    "    'mg': 'milligram',\n",
    "    'cup': 'cup',\n",
    "    'mg': 'milligram',\n",
    "    'kg': 'kilogram',\n",
    "    'oz': 'ounce',\n",
    "    'gallon': 'gallon',\n",
    "    'v': 'volt',\n",
    "    'volt': 'volt',\n",
    "    'w': 'watt',\n",
    "    'watt': 'watt',\n",
    "    'lb': 'pound','pound': 'pound',\n",
    "    'ml': 'millilitre',\n",
    "    'millilitre': 'millilitre',\n",
    "    'ft': 'foot',\n",
    "    'foot': 'foot',\n",
    "    'ton': 'ton',\n",
    "    'dl': 'decilitre',\n",
    "    'decilitre': 'decilitre',\n",
    "    'in': 'inch',\n",
    "    'inch': 'inch',\n",
    "    'l': 'litre',\n",
    "    'litre': 'litre',\n",
    "    'mcg': 'microgram',\n",
    "    'microgram': 'microgram',\n",
    "    'cm': 'centimetre',\n",
    "    'centimetre': 'centimetre',\n",
    "    'qt': 'quart',\n",
    "    'quart': 'quart',\n",
    "    'hp': 'horsepower',\n",
    "    'horsepower': 'horsepower',\n",
    "    'kw': 'kilowatt',\n",
    "    'kilowatt': 'kilowatt'\n",
    "}"
   ]
  },
  {
   "cell_type": "code",
   "execution_count": null,
   "id": "83a9601e",
   "metadata": {
    "execution": {
     "iopub.execute_input": "2024-09-15T15:06:35.683891Z",
     "iopub.status.busy": "2024-09-15T15:06:35.683523Z",
     "iopub.status.idle": "2024-09-15T15:06:35.696150Z",
     "shell.execute_reply": "2024-09-15T15:06:35.695239Z",
     "shell.execute_reply.started": "2024-09-15T15:06:35.683849Z"
    },
    "papermill": {
     "duration": null,
     "end_time": null,
     "exception": null,
     "start_time": null,
     "status": "pending"
    },
    "tags": []
   },
   "outputs": [],
   "source": [
    "entity_unit_map = {\n",
    "    'width': {'centimetre', 'foot', 'inch', 'metre', 'millimetre', 'yard','m','cm','in','ft'},\n",
    "    'depth': {'centimetre', 'foot', 'inch', 'metre', 'millimetre', 'yard','m','cm','in','ft'},\n",
    "    'height': {'centimetre', 'foot', 'inch', 'metre', 'millimetre', 'yard','m','cm','in','ft'},\n",
    "    'item_weight': {'gram',\n",
    "        'kilogram',\n",
    "        'microgram',\n",
    "        'milligram',\n",
    "        'ounce',\n",
    "        'pound',\n",
    "        'ton',\n",
    "        'g',\n",
    "        'kg',\n",
    "        'mg','lb'},\n",
    "    'maximum_weight_recommendation': {'gram',\n",
    "        'kilogram',\n",
    "        'microgram',\n",
    "        'milligram',\n",
    "        'ounce',\n",
    "        'pound',\n",
    "        'ton',\n",
    "        'kg','g','mg'},\n",
    "    'voltage': {'kilovolt', 'millivolt', 'volt','v','kv','mv'},\n",
    "    'wattage': {'kilowatt', 'watt','w','kw'},\n",
    "    'item_volume': {'centilitre',\n",
    "        'cubic foot',\n",
    "        'cubic inch',\n",
    "        'cup',\n",
    "        'decilitre',\n",
    "        'fluid ounce',\n",
    "        'gallon',\n",
    "        'imperial gallon',\n",
    "        'litre',\n",
    "        'microlitre',\n",
    "        'millilitre',\n",
    "        'pint',\n",
    "        'quart','ml'}\n",
    "}\n",
    "\n",
    "allowed_units = {unit for entity in entity_unit_map for unit in entity_unit_map[entity]}\n",
    "allowed_units"
   ]
  },
  {
   "cell_type": "code",
   "execution_count": null,
   "id": "980762cf",
   "metadata": {
    "execution": {
     "iopub.execute_input": "2024-09-15T15:06:35.697462Z",
     "iopub.status.busy": "2024-09-15T15:06:35.697189Z",
     "iopub.status.idle": "2024-09-15T15:06:35.805020Z",
     "shell.execute_reply": "2024-09-15T15:06:35.804049Z",
     "shell.execute_reply.started": "2024-09-15T15:06:35.697431Z"
    },
    "papermill": {
     "duration": null,
     "end_time": null,
     "exception": null,
     "start_time": null,
     "status": "pending"
    },
    "tags": []
   },
   "outputs": [],
   "source": [
    "megaframe['processed_text'] = megaframe['textfromimg'].str.lower()\n",
    "megaframe.head()"
   ]
  },
  {
   "cell_type": "code",
   "execution_count": null,
   "id": "0e30f18e",
   "metadata": {
    "execution": {
     "iopub.execute_input": "2024-09-15T15:06:35.806571Z",
     "iopub.status.busy": "2024-09-15T15:06:35.806260Z",
     "iopub.status.idle": "2024-09-15T15:06:35.813005Z",
     "shell.execute_reply": "2024-09-15T15:06:35.812093Z",
     "shell.execute_reply.started": "2024-09-15T15:06:35.806538Z"
    },
    "papermill": {
     "duration": null,
     "end_time": null,
     "exception": null,
     "start_time": null,
     "status": "pending"
    },
    "tags": []
   },
   "outputs": [],
   "source": [
    "def convert_floats_to_strings(megaframe):\n",
    "    def is_float(word):\n",
    "        try:\n",
    "            float(word)\n",
    "            return True\n",
    "        except ValueError:\n",
    "            return False\n",
    "\n",
    "    # Iterate over the 'processed_text' column\n",
    "    for index, row in megaframe.iterrows():\n",
    "        text = row['processed_text']\n",
    "        words = text.split()  # Split the text into individual words\n",
    "\n",
    "        # Replace floats with strings\n",
    "        words = [str(float(word)) if is_float(word) else word for word in words]\n",
    "\n",
    "        # Join the words back into a single string and update the DataFrame\n",
    "        megaframe.at[index, 'processed_text'] = ' '.join(words)\n",
    "\n",
    "    return megaframe\n"
   ]
  },
  {
   "cell_type": "code",
   "execution_count": null,
   "id": "aaa9c033",
   "metadata": {
    "execution": {
     "iopub.execute_input": "2024-09-15T15:06:35.814490Z",
     "iopub.status.busy": "2024-09-15T15:06:35.814178Z",
     "iopub.status.idle": "2024-09-15T15:06:36.036835Z",
     "shell.execute_reply": "2024-09-15T15:06:36.036061Z",
     "shell.execute_reply.started": "2024-09-15T15:06:35.814445Z"
    },
    "papermill": {
     "duration": null,
     "end_time": null,
     "exception": null,
     "start_time": null,
     "status": "pending"
    },
    "tags": []
   },
   "outputs": [],
   "source": [
    "megaframe['processed_text'] = megaframe['processed_text'].astype(str)\n",
    "megaframe['processed_text'] = megaframe['processed_text'].str.replace('o', '0').str.replace('z', '2').str.replace('\"','in')"
   ]
  },
  {
   "cell_type": "code",
   "execution_count": null,
   "id": "b042d3c1",
   "metadata": {
    "execution": {
     "iopub.execute_input": "2024-09-15T15:06:36.038264Z",
     "iopub.status.busy": "2024-09-15T15:06:36.037961Z",
     "iopub.status.idle": "2024-09-15T15:06:49.264748Z",
     "shell.execute_reply": "2024-09-15T15:06:49.263983Z",
     "shell.execute_reply.started": "2024-09-15T15:06:36.038232Z"
    },
    "papermill": {
     "duration": null,
     "end_time": null,
     "exception": null,
     "start_time": null,
     "status": "pending"
    },
    "tags": []
   },
   "outputs": [],
   "source": [
    "def extract_numeric_units(text, allowed_units):\n",
    "    # Regular expression to match patterns like 2.4g, 5.8g, etc.\n",
    "    pattern = re.compile(r'(\\d+(?:\\.\\d+)?)\\s*([a-zA-Z]+|\")(?:\\/(\\d+(?:\\.\\d+)?)\\s*([a-zA-Z]+|\"))?')\n",
    "    \n",
    "    # Find all matches\n",
    "    matches = pattern.findall(text)\n",
    "    \n",
    "    # Filter matches based on the allowed units for this specific entity\n",
    "    extracted = []\n",
    "    for match in matches:\n",
    "        number, unit, number2, unit2 = match\n",
    "        \n",
    "        # Check if the first unit is in the allowed units for the entity\n",
    "        if unit in allowed_units:\n",
    "            extracted.append(f\"{number} {unit}\")\n",
    "        \n",
    "        # If a second number/unit pair exists, check it as well\n",
    "        if number2 and unit2 in allowed_units:\n",
    "            extracted.append(f\"{number2} {unit2}\")\n",
    "    \n",
    "    return extracted\n",
    "\n",
    "# Initialize the new column in your DataFrame\n",
    "megaframe['extracted_values'] = [[] for _ in range(len(megaframe))]\n",
    "\n",
    "# Iterate through each row and extract values based on the entity_name\n",
    "for index, row in megaframe.iterrows():\n",
    "    text = row['processed_text']\n",
    "    entity_name = row['entity_name']\n",
    "    \n",
    "    # Get the allowed units for the current entity_name from entity_unit_map\n",
    "    allowed_units_for_entity = entity_unit_map.get(entity_name, set())  # Default to an empty set if no mapping exists\n",
    "    \n",
    "    # Extract numeric-unit pairs based on the allowed units for the specific entity\n",
    "    extracted = extract_numeric_units(text, allowed_units_for_entity)\n",
    "    \n",
    "    # Append extracted values to the new column\n",
    "    megaframe.at[index, 'extracted_values'] = extracted"
   ]
  },
  {
   "cell_type": "code",
   "execution_count": null,
   "id": "77a4420a",
   "metadata": {
    "execution": {
     "iopub.execute_input": "2024-09-15T15:06:49.267635Z",
     "iopub.status.busy": "2024-09-15T15:06:49.267331Z",
     "iopub.status.idle": "2024-09-15T15:06:49.290388Z",
     "shell.execute_reply": "2024-09-15T15:06:49.289301Z",
     "shell.execute_reply.started": "2024-09-15T15:06:49.267603Z"
    },
    "papermill": {
     "duration": null,
     "end_time": null,
     "exception": null,
     "start_time": null,
     "status": "pending"
    },
    "tags": []
   },
   "outputs": [],
   "source": [
    "megaframe[['entity_name','extracted_values']].head(20)"
   ]
  },
  {
   "cell_type": "code",
   "execution_count": null,
   "id": "97ccb632",
   "metadata": {
    "execution": {
     "iopub.execute_input": "2024-09-15T15:06:49.291785Z",
     "iopub.status.busy": "2024-09-15T15:06:49.291494Z",
     "iopub.status.idle": "2024-09-15T15:06:49.326383Z",
     "shell.execute_reply": "2024-09-15T15:06:49.325531Z",
     "shell.execute_reply.started": "2024-09-15T15:06:49.291737Z"
    },
    "papermill": {
     "duration": null,
     "end_time": null,
     "exception": null,
     "start_time": null,
     "status": "pending"
    },
    "tags": []
   },
   "outputs": [],
   "source": [
    "def count_empty_extracted_values(megaframe):\n",
    "    empty_count = 0\n",
    "    for values in megaframe['extracted_values']:\n",
    "        if not values:  # Check if the list is empty\n",
    "            empty_count += 1\n",
    "    return empty_count\n",
    "\n",
    "# Usage\n",
    "empty_lists_count = count_empty_extracted_values(megaframe)\n",
    "print(f\"Number of empty lists in 'extracted_values': {empty_lists_count}\")"
   ]
  },
  {
   "cell_type": "code",
   "execution_count": null,
   "id": "4493dd37",
   "metadata": {
    "execution": {
     "iopub.execute_input": "2024-09-15T15:06:49.327785Z",
     "iopub.status.busy": "2024-09-15T15:06:49.327488Z",
     "iopub.status.idle": "2024-09-15T15:06:49.391199Z",
     "shell.execute_reply": "2024-09-15T15:06:49.390324Z",
     "shell.execute_reply.started": "2024-09-15T15:06:49.327747Z"
    },
    "papermill": {
     "duration": null,
     "end_time": null,
     "exception": null,
     "start_time": null,
     "status": "pending"
    },
    "tags": []
   },
   "outputs": [],
   "source": [
    "def filter_non_empty_extracted_values(megaframe):\n",
    "    # Filter rows where 'extracted_values' is not empty\n",
    "    filtered_megaframe = megaframe[megaframe['extracted_values'].apply(bool)]\n",
    "    return filtered_megaframe\n",
    "\n",
    "non_empty_rows = filter_non_empty_extracted_values(megaframe)\n",
    "non_empty_rows"
   ]
  },
  {
   "cell_type": "code",
   "execution_count": null,
   "id": "3a870fc8",
   "metadata": {
    "execution": {
     "iopub.execute_input": "2024-09-15T15:06:49.392721Z",
     "iopub.status.busy": "2024-09-15T15:06:49.392362Z",
     "iopub.status.idle": "2024-09-15T15:06:49.401661Z",
     "shell.execute_reply": "2024-09-15T15:06:49.400876Z",
     "shell.execute_reply.started": "2024-09-15T15:06:49.392680Z"
    },
    "papermill": {
     "duration": null,
     "end_time": null,
     "exception": null,
     "start_time": null,
     "status": "pending"
    },
    "tags": []
   },
   "outputs": [],
   "source": [
    "# Function to map abbreviated units to full names\n",
    "def map_units(value, entity_name):\n",
    "    # Extract the number and unit from the value (e.g., '500g', '0.729 g')\n",
    "    match = re.match(r\"([0-9.]+)\\s*([a-zA-Z]+)\", value)\n",
    "    if match:\n",
    "        number, unit = match.groups()\n",
    "        # Convert the number to float to maintain precision\n",
    "        number_float = float(number)\n",
    "        # Map unit using the abbreviation map\n",
    "        full_unit = unit_abbreviation_map.get(unit, unit)  # Default to the same unit if not found in map\n",
    "        return f\"{number_float} {full_unit}\"\n",
    "    return value\n",
    "\n",
    "# Function to find the most frequent value and map its unit to full name\n",
    "# Function to compare the first and last value in the list and return the greater one\n",
    "def get_predicted_value(row):\n",
    "    entity_name = row['entity_name']\n",
    "    values = row['extracted_values']\n",
    "    \n",
    "    # Check if extracted_values is None or empty\n",
    "    if values is None or len(values) == 0:\n",
    "        return None\n",
    "    \n",
    "    # Convert all values to their full unit names\n",
    "    full_values = [map_units(value, entity_name) for value in values]\n",
    "    \n",
    "    # Extract the numeric part of the first and last value\n",
    "    first_value = float(re.match(r\"([0-9.]+)\", full_values[0]).group(1))\n",
    "    last_value = float(re.match(r\"([0-9.]+)\", full_values[-1]).group(1))\n",
    "    \n",
    "    # Compare and return the greater value (with its full unit)\n",
    "    if first_value >= last_value:\n",
    "        return full_values[0]\n",
    "    else:\n",
    "        return full_values[-1]\n"
   ]
  },
  {
   "cell_type": "code",
   "execution_count": null,
   "id": "4d7ebd5e",
   "metadata": {
    "execution": {
     "iopub.execute_input": "2024-09-15T15:10:17.752310Z",
     "iopub.status.busy": "2024-09-15T15:10:17.751907Z",
     "iopub.status.idle": "2024-09-15T15:10:20.948841Z",
     "shell.execute_reply": "2024-09-15T15:10:20.947876Z",
     "shell.execute_reply.started": "2024-09-15T15:10:17.752267Z"
    },
    "papermill": {
     "duration": null,
     "end_time": null,
     "exception": null,
     "start_time": null,
     "status": "pending"
    },
    "tags": []
   },
   "outputs": [],
   "source": [
    "megaframe['prediction'] = megaframe.apply(get_predicted_value, axis=1)\n",
    "\n",
    "print(megaframe[['entity_name','prediction']].head(20))"
   ]
  },
  {
   "cell_type": "code",
   "execution_count": null,
   "id": "206176e7",
   "metadata": {
    "execution": {
     "iopub.execute_input": "2024-09-15T15:09:03.290570Z",
     "iopub.status.busy": "2024-09-15T15:09:03.289662Z",
     "iopub.status.idle": "2024-09-15T15:09:03.483301Z",
     "shell.execute_reply": "2024-09-15T15:09:03.482320Z",
     "shell.execute_reply.started": "2024-09-15T15:09:03.290519Z"
    },
    "papermill": {
     "duration": null,
     "end_time": null,
     "exception": null,
     "start_time": null,
     "status": "pending"
    },
    "tags": []
   },
   "outputs": [],
   "source": [
    "output=megaframe[['index','prediction']]\n",
    "output.to_csv('test_out_new.csv', index=False)"
   ]
  }
 ],
 "metadata": {
  "kaggle": {
   "accelerator": "nvidiaTeslaT4",
   "dataSources": [
    {
     "datasetId": 5690421,
     "sourceId": 9400273,
     "sourceType": "datasetVersion"
    }
   ],
   "isGpuEnabled": true,
   "isInternetEnabled": true,
   "language": "python",
   "sourceType": "notebook"
  },
  "kernelspec": {
   "display_name": "Python 3",
   "language": "python",
   "name": "python3"
  },
  "language_info": {
   "codemirror_mode": {
    "name": "ipython",
    "version": 3
   },
   "file_extension": ".py",
   "mimetype": "text/x-python",
   "name": "python",
   "nbconvert_exporter": "python",
   "pygments_lexer": "ipython3",
   "version": "3.10.14"
  },
  "papermill": {
   "default_parameters": {},
   "duration": 4.687377,
   "end_time": "2024-09-17T08:19:09.655856",
   "environment_variables": {},
   "exception": true,
   "input_path": "__notebook__.ipynb",
   "output_path": "__notebook__.ipynb",
   "parameters": {},
   "start_time": "2024-09-17T08:19:04.968479",
   "version": "2.6.0"
  }
 },
 "nbformat": 4,
 "nbformat_minor": 5
}

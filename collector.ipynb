{
 "cells": [
  {
   "cell_type": "code",
   "execution_count": 1,
   "id": "1414df58",
   "metadata": {
    "_cell_guid": "b1076dfc-b9ad-4769-8c92-a6c4dae69d19",
    "_uuid": "8f2839f25d086af736a60e9eeb907d3b93b6e0e5",
    "execution": {
     "iopub.execute_input": "2024-09-14T13:09:09.992342Z",
     "iopub.status.busy": "2024-09-14T13:09:09.991740Z",
     "iopub.status.idle": "2024-09-14T13:09:17.766033Z",
     "shell.execute_reply": "2024-09-14T13:09:17.765005Z"
    },
    "papermill": {
     "duration": 7.782991,
     "end_time": "2024-09-14T13:09:17.768310",
     "exception": false,
     "start_time": "2024-09-14T13:09:09.985319",
     "status": "completed"
    },
    "tags": []
   },
   "outputs": [
    {
     "name": "stdout",
     "output_type": "stream",
     "text": [
      "CPU times: user 3.61 s, sys: 584 ms, total: 4.2 s\n",
      "Wall time: 7.76 s\n"
     ]
    }
   ],
   "source": [
    "%%time\n",
    "import pandas as pd\n",
    "import numpy as np\n",
    "import os\n",
    "import glob\n",
    "import easyocr\n",
    "import cv2\n",
    "from joblib import Parallel, delayed\n",
    "from tqdm import tqdm\n",
    "import matplotlib.pyplot as plt\n",
    "import requests\n",
    "from multiprocessing import Pool\n",
    "import warnings\n",
    "import concurrent.futures\n",
    "\n",
    "%matplotlib inline\n",
    "\n",
    "warnings.filterwarnings('ignore')"
   ]
  },
  {
   "cell_type": "code",
   "execution_count": 2,
   "id": "45b15360",
   "metadata": {
    "execution": {
     "iopub.execute_input": "2024-09-14T13:09:17.780578Z",
     "iopub.status.busy": "2024-09-14T13:09:17.780085Z",
     "iopub.status.idle": "2024-09-14T13:09:18.051473Z",
     "shell.execute_reply": "2024-09-14T13:09:18.050565Z"
    },
    "papermill": {
     "duration": 0.280116,
     "end_time": "2024-09-14T13:09:18.053893",
     "exception": false,
     "start_time": "2024-09-14T13:09:17.773777",
     "status": "completed"
    },
    "tags": []
   },
   "outputs": [
    {
     "data": {
      "text/html": [
       "<div>\n",
       "<style scoped>\n",
       "    .dataframe tbody tr th:only-of-type {\n",
       "        vertical-align: middle;\n",
       "    }\n",
       "\n",
       "    .dataframe tbody tr th {\n",
       "        vertical-align: top;\n",
       "    }\n",
       "\n",
       "    .dataframe thead th {\n",
       "        text-align: right;\n",
       "    }\n",
       "</style>\n",
       "<table border=\"1\" class=\"dataframe\">\n",
       "  <thead>\n",
       "    <tr style=\"text-align: right;\">\n",
       "      <th></th>\n",
       "      <th>index</th>\n",
       "      <th>image_link</th>\n",
       "      <th>group_id</th>\n",
       "      <th>entity_name</th>\n",
       "    </tr>\n",
       "  </thead>\n",
       "  <tbody>\n",
       "    <tr>\n",
       "      <th>0</th>\n",
       "      <td>0</td>\n",
       "      <td>https://m.media-amazon.com/images/I/110EibNycl...</td>\n",
       "      <td>156839</td>\n",
       "      <td>height</td>\n",
       "    </tr>\n",
       "    <tr>\n",
       "      <th>1</th>\n",
       "      <td>1</td>\n",
       "      <td>https://m.media-amazon.com/images/I/11TU2clswz...</td>\n",
       "      <td>792578</td>\n",
       "      <td>width</td>\n",
       "    </tr>\n",
       "    <tr>\n",
       "      <th>2</th>\n",
       "      <td>2</td>\n",
       "      <td>https://m.media-amazon.com/images/I/11TU2clswz...</td>\n",
       "      <td>792578</td>\n",
       "      <td>height</td>\n",
       "    </tr>\n",
       "    <tr>\n",
       "      <th>3</th>\n",
       "      <td>3</td>\n",
       "      <td>https://m.media-amazon.com/images/I/11TU2clswz...</td>\n",
       "      <td>792578</td>\n",
       "      <td>depth</td>\n",
       "    </tr>\n",
       "    <tr>\n",
       "      <th>4</th>\n",
       "      <td>4</td>\n",
       "      <td>https://m.media-amazon.com/images/I/11gHj8dhhr...</td>\n",
       "      <td>792578</td>\n",
       "      <td>depth</td>\n",
       "    </tr>\n",
       "    <tr>\n",
       "      <th>...</th>\n",
       "      <td>...</td>\n",
       "      <td>...</td>\n",
       "      <td>...</td>\n",
       "      <td>...</td>\n",
       "    </tr>\n",
       "    <tr>\n",
       "      <th>131182</th>\n",
       "      <td>131283</td>\n",
       "      <td>https://m.media-amazon.com/images/I/A1rVsIzEtk...</td>\n",
       "      <td>721522</td>\n",
       "      <td>maximum_weight_recommendation</td>\n",
       "    </tr>\n",
       "    <tr>\n",
       "      <th>131183</th>\n",
       "      <td>131284</td>\n",
       "      <td>https://m.media-amazon.com/images/I/A1rdvZ5zDd...</td>\n",
       "      <td>603688</td>\n",
       "      <td>item_weight</td>\n",
       "    </tr>\n",
       "    <tr>\n",
       "      <th>131184</th>\n",
       "      <td>131285</td>\n",
       "      <td>https://m.media-amazon.com/images/I/A1rdvZ5zDd...</td>\n",
       "      <td>603688</td>\n",
       "      <td>maximum_weight_recommendation</td>\n",
       "    </tr>\n",
       "    <tr>\n",
       "      <th>131185</th>\n",
       "      <td>131286</td>\n",
       "      <td>https://m.media-amazon.com/images/I/A1tnTUPyr7...</td>\n",
       "      <td>853009</td>\n",
       "      <td>item_weight</td>\n",
       "    </tr>\n",
       "    <tr>\n",
       "      <th>131186</th>\n",
       "      <td>131287</td>\n",
       "      <td>https://m.media-amazon.com/images/I/A1tnTUPyr7...</td>\n",
       "      <td>853009</td>\n",
       "      <td>maximum_weight_recommendation</td>\n",
       "    </tr>\n",
       "  </tbody>\n",
       "</table>\n",
       "<p>131187 rows × 4 columns</p>\n",
       "</div>"
      ],
      "text/plain": [
       "         index                                         image_link  group_id  \\\n",
       "0            0  https://m.media-amazon.com/images/I/110EibNycl...    156839   \n",
       "1            1  https://m.media-amazon.com/images/I/11TU2clswz...    792578   \n",
       "2            2  https://m.media-amazon.com/images/I/11TU2clswz...    792578   \n",
       "3            3  https://m.media-amazon.com/images/I/11TU2clswz...    792578   \n",
       "4            4  https://m.media-amazon.com/images/I/11gHj8dhhr...    792578   \n",
       "...        ...                                                ...       ...   \n",
       "131182  131283  https://m.media-amazon.com/images/I/A1rVsIzEtk...    721522   \n",
       "131183  131284  https://m.media-amazon.com/images/I/A1rdvZ5zDd...    603688   \n",
       "131184  131285  https://m.media-amazon.com/images/I/A1rdvZ5zDd...    603688   \n",
       "131185  131286  https://m.media-amazon.com/images/I/A1tnTUPyr7...    853009   \n",
       "131186  131287  https://m.media-amazon.com/images/I/A1tnTUPyr7...    853009   \n",
       "\n",
       "                          entity_name  \n",
       "0                              height  \n",
       "1                               width  \n",
       "2                              height  \n",
       "3                               depth  \n",
       "4                               depth  \n",
       "...                               ...  \n",
       "131182  maximum_weight_recommendation  \n",
       "131183                    item_weight  \n",
       "131184  maximum_weight_recommendation  \n",
       "131185                    item_weight  \n",
       "131186  maximum_weight_recommendation  \n",
       "\n",
       "[131187 rows x 4 columns]"
      ]
     },
     "metadata": {},
     "output_type": "display_data"
    }
   ],
   "source": [
    "input_path = '/kaggle/input/ml-dataset/'\n",
    "test = pd.read_csv(input_path+'test.csv')\n",
    "display(test)"
   ]
  },
  {
   "cell_type": "markdown",
   "id": "327290ec",
   "metadata": {
    "papermill": {
     "duration": 0.004941,
     "end_time": "2024-09-14T13:09:18.064193",
     "exception": false,
     "start_time": "2024-09-14T13:09:18.059252",
     "status": "completed"
    },
    "tags": []
   },
   "source": [
    "# get text"
   ]
  },
  {
   "cell_type": "code",
   "execution_count": 3,
   "id": "cf7b49be",
   "metadata": {
    "execution": {
     "iopub.execute_input": "2024-09-14T13:09:18.075453Z",
     "iopub.status.busy": "2024-09-14T13:09:18.075150Z",
     "iopub.status.idle": "2024-09-14T13:09:21.689758Z",
     "shell.execute_reply": "2024-09-14T13:09:21.688938Z"
    },
    "papermill": {
     "duration": 3.622753,
     "end_time": "2024-09-14T13:09:21.692145",
     "exception": false,
     "start_time": "2024-09-14T13:09:18.069392",
     "status": "completed"
    },
    "tags": []
   },
   "outputs": [],
   "source": [
    "reader = easyocr.Reader(['en', 'es'])"
   ]
  },
  {
   "cell_type": "code",
   "execution_count": 4,
   "id": "1b082195",
   "metadata": {
    "execution": {
     "iopub.execute_input": "2024-09-14T13:09:21.704117Z",
     "iopub.status.busy": "2024-09-14T13:09:21.703377Z",
     "iopub.status.idle": "2024-09-14T13:09:21.711462Z",
     "shell.execute_reply": "2024-09-14T13:09:21.710585Z"
    },
    "papermill": {
     "duration": 0.016283,
     "end_time": "2024-09-14T13:09:21.713717",
     "exception": false,
     "start_time": "2024-09-14T13:09:21.697434",
     "status": "completed"
    },
    "tags": []
   },
   "outputs": [],
   "source": [
    "def url_image(link):\n",
    "    try:\n",
    "        r = requests.get(link)\n",
    "        if r.status_code == 200:\n",
    "#             print(\"Image content downloaded.\")\n",
    "            return r.content\n",
    "        else:\n",
    "            print(f\"Error downloading image, status code: {r.status_code}\")\n",
    "            return None\n",
    "    except requests.exceptions.RequestException as e:\n",
    "        print(f\"Request failed: {e}\")\n",
    "        return None\n",
    "\n",
    "def cvrreturner(link):\n",
    "    returnval = url_image(link)\n",
    "    if returnval is not None:\n",
    "        # Convert the binary image data into a format OpenCV can work with\n",
    "        image = cv2.imdecode(np.frombuffer(returnval, np.uint8), cv2.IMREAD_COLOR)\n",
    "        if image is not None:\n",
    "            # Convert to RGB format (OpenCV loads images as BGR by default)\n",
    "            image = cv2.cvtColor(image, cv2.COLOR_BGR2RGB)\n",
    "            # Pass image directly to EasyOCR for text recognition\n",
    "            ocr_text = reader.readtext(image)\n",
    "            # Join all detected text into a single sentence\n",
    "            sentence = \" \".join([o[1] for o in ocr_text])\n",
    "            return sentence\n",
    "        else:\n",
    "            print(\"Error decoding the image\")\n",
    "            return None\n",
    "    else:\n",
    "        return None"
   ]
  },
  {
   "cell_type": "code",
   "execution_count": 5,
   "id": "29ff56fc",
   "metadata": {
    "execution": {
     "iopub.execute_input": "2024-09-14T13:09:21.725759Z",
     "iopub.status.busy": "2024-09-14T13:09:21.725035Z",
     "iopub.status.idle": "2024-09-14T13:09:23.359448Z",
     "shell.execute_reply": "2024-09-14T13:09:23.358448Z"
    },
    "papermill": {
     "duration": 1.642885,
     "end_time": "2024-09-14T13:09:23.361656",
     "exception": false,
     "start_time": "2024-09-14T13:09:21.718771",
     "status": "completed"
    },
    "tags": []
   },
   "outputs": [
    {
     "data": {
      "text/plain": [
       "'S6ban 36in - ?ug 91 bauMn I5eii'"
      ]
     },
     "execution_count": 5,
     "metadata": {},
     "output_type": "execute_result"
    }
   ],
   "source": [
    "value = cvrreturner(test['image_link'][0])\n",
    "value"
   ]
  },
  {
   "cell_type": "markdown",
   "id": "ffd59f56",
   "metadata": {
    "papermill": {
     "duration": 0.005306,
     "end_time": "2024-09-14T13:09:23.373564",
     "exception": false,
     "start_time": "2024-09-14T13:09:23.368258",
     "status": "completed"
    },
    "tags": []
   },
   "source": [
    "# Extract all the ocr text and save"
   ]
  },
  {
   "cell_type": "code",
   "execution_count": 6,
   "id": "cd7e78c5",
   "metadata": {
    "execution": {
     "iopub.execute_input": "2024-09-14T13:09:23.385270Z",
     "iopub.status.busy": "2024-09-14T13:09:23.384949Z",
     "iopub.status.idle": "2024-09-14T13:09:23.390161Z",
     "shell.execute_reply": "2024-09-14T13:09:23.389235Z"
    },
    "papermill": {
     "duration": 0.013182,
     "end_time": "2024-09-14T13:09:23.392093",
     "exception": false,
     "start_time": "2024-09-14T13:09:23.378911",
     "status": "completed"
    },
    "tags": []
   },
   "outputs": [],
   "source": [
    "def main_extractor_for_df(df):\n",
    "    linklist = list(df['image_link'])\n",
    "    textlist = []\n",
    "    for link in tqdm(linklist):\n",
    "        value = cvrreturner(link)\n",
    "        textlist.append(value)\n",
    "    df['textfromimg'] = textlist\n",
    "    return df"
   ]
  },
  {
   "cell_type": "code",
   "execution_count": 7,
   "id": "d996d3e2",
   "metadata": {
    "execution": {
     "iopub.execute_input": "2024-09-14T13:09:23.403295Z",
     "iopub.status.busy": "2024-09-14T13:09:23.403004Z",
     "iopub.status.idle": "2024-09-14T13:09:23.410335Z",
     "shell.execute_reply": "2024-09-14T13:09:23.409390Z"
    },
    "papermill": {
     "duration": 0.015177,
     "end_time": "2024-09-14T13:09:23.412332",
     "exception": false,
     "start_time": "2024-09-14T13:09:23.397155",
     "status": "completed"
    },
    "tags": []
   },
   "outputs": [
    {
     "name": "stdout",
     "output_type": "stream",
     "text": [
      "Chunk 1 has 10 rows\n",
      "Chunk 2 has 10 rows\n",
      "Chunk 3 has 10 rows\n",
      "Chunk 4 has 10 rows\n"
     ]
    }
   ],
   "source": [
    "test40 = test.head(40)\n",
    "\n",
    "df_chunks = np.array_split(test40, 4)  \n",
    "\n",
    "for i, chunk in enumerate(df_chunks):\n",
    "    print(f\"Chunk {i+1} has {len(chunk)} rows\")\n",
    "\n",
    "df1 = df_chunks[0] \n",
    "df2 = df_chunks[1]  \n",
    "df3 = df_chunks[2] \n",
    "df4 = df_chunks[3]  "
   ]
  },
  {
   "cell_type": "code",
   "execution_count": 8,
   "id": "c76fee33",
   "metadata": {
    "execution": {
     "iopub.execute_input": "2024-09-14T13:09:23.423832Z",
     "iopub.status.busy": "2024-09-14T13:09:23.423572Z",
     "iopub.status.idle": "2024-09-14T13:09:29.163105Z",
     "shell.execute_reply": "2024-09-14T13:09:29.162077Z"
    },
    "papermill": {
     "duration": 5.747337,
     "end_time": "2024-09-14T13:09:29.165107",
     "exception": false,
     "start_time": "2024-09-14T13:09:23.417770",
     "status": "completed"
    },
    "tags": []
   },
   "outputs": [
    {
     "name": "stderr",
     "output_type": "stream",
     "text": [
      "100%|██████████| 10/10 [00:02<00:00,  4.94it/s]\n",
      "100%|██████████| 10/10 [00:01<00:00,  7.94it/s]\n",
      "100%|██████████| 10/10 [00:01<00:00,  8.08it/s]\n",
      "100%|██████████| 10/10 [00:01<00:00,  8.38it/s]\n"
     ]
    }
   ],
   "source": [
    "def run_functions_in_parallel():\n",
    "    with concurrent.futures.ThreadPoolExecutor() as executor:\n",
    "        futures = [\n",
    "            executor.submit(main_extractor_for_df(df1)),\n",
    "            executor.submit(main_extractor_for_df(df2)),\n",
    "            executor.submit(main_extractor_for_df(df3)),\n",
    "            executor.submit(main_extractor_for_df(df4)),\n",
    "        ]\n",
    "        concurrent.futures.wait(futures)\n",
    "run_functions_in_parallel()"
   ]
  },
  {
   "cell_type": "code",
   "execution_count": 9,
   "id": "82eca98e",
   "metadata": {
    "execution": {
     "iopub.execute_input": "2024-09-14T13:09:29.184317Z",
     "iopub.status.busy": "2024-09-14T13:09:29.184004Z",
     "iopub.status.idle": "2024-09-14T13:09:29.187754Z",
     "shell.execute_reply": "2024-09-14T13:09:29.186996Z"
    },
    "papermill": {
     "duration": 0.015201,
     "end_time": "2024-09-14T13:09:29.189571",
     "exception": false,
     "start_time": "2024-09-14T13:09:29.174370",
     "status": "completed"
    },
    "tags": []
   },
   "outputs": [],
   "source": [
    "# df1.to_csv('file1.csv')\n",
    "# df1.to_csv('file2.csv')\n",
    "# df1.to_csv('file3.csv')\n",
    "# df1.to_csv('file4.csv')"
   ]
  },
  {
   "cell_type": "markdown",
   "id": "c1acb81b",
   "metadata": {
    "papermill": {
     "duration": 0.008274,
     "end_time": "2024-09-14T13:09:29.206209",
     "exception": false,
     "start_time": "2024-09-14T13:09:29.197935",
     "status": "completed"
    },
    "tags": []
   },
   "source": [
    "# control dataset "
   ]
  },
  {
   "cell_type": "code",
   "execution_count": 10,
   "id": "6e2a0617",
   "metadata": {
    "execution": {
     "iopub.execute_input": "2024-09-14T13:09:29.223958Z",
     "iopub.status.busy": "2024-09-14T13:09:29.223666Z",
     "iopub.status.idle": "2024-09-14T13:09:29.228897Z",
     "shell.execute_reply": "2024-09-14T13:09:29.228085Z"
    },
    "papermill": {
     "duration": 0.016414,
     "end_time": "2024-09-14T13:09:29.230910",
     "exception": false,
     "start_time": "2024-09-14T13:09:29.214496",
     "status": "completed"
    },
    "tags": []
   },
   "outputs": [
    {
     "name": "stdout",
     "output_type": "stream",
     "text": [
      "===============================================================================================\n",
      "RangeIndex(start=12001, stop=24000, step=1)\n",
      "===============================================================================================\n"
     ]
    }
   ],
   "source": [
    "subset_df = test.iloc[12001:24000]  \n",
    "print('===============================================================================================')\n",
    "print(subset_df.index)\n",
    "print('===============================================================================================')"
   ]
  },
  {
   "cell_type": "code",
   "execution_count": 11,
   "id": "f1750288",
   "metadata": {
    "execution": {
     "iopub.execute_input": "2024-09-14T13:09:29.249028Z",
     "iopub.status.busy": "2024-09-14T13:09:29.248744Z",
     "iopub.status.idle": "2024-09-14T13:09:29.257085Z",
     "shell.execute_reply": "2024-09-14T13:09:29.256134Z"
    },
    "papermill": {
     "duration": 0.019574,
     "end_time": "2024-09-14T13:09:29.258909",
     "exception": false,
     "start_time": "2024-09-14T13:09:29.239335",
     "status": "completed"
    },
    "tags": []
   },
   "outputs": [
    {
     "name": "stdout",
     "output_type": "stream",
     "text": [
      "Chunk 1 has 3000 rows\n",
      "Chunk 2 has 3000 rows\n",
      "Chunk 3 has 3000 rows\n",
      "Chunk 4 has 2999 rows\n"
     ]
    }
   ],
   "source": [
    "targetdf = subset_df.copy()\n",
    "\n",
    "df_chunks = np.array_split(targetdf, 4)  \n",
    "\n",
    "for i, chunk in enumerate(df_chunks):\n",
    "    print(f\"Chunk {i+1} has {len(chunk)} rows\")\n",
    "\n",
    "df1 = df_chunks[0] \n",
    "df2 = df_chunks[1]  \n",
    "df3 = df_chunks[2] \n",
    "df4 = df_chunks[3]  "
   ]
  },
  {
   "cell_type": "code",
   "execution_count": 12,
   "id": "37412a05",
   "metadata": {
    "execution": {
     "iopub.execute_input": "2024-09-14T13:09:29.277182Z",
     "iopub.status.busy": "2024-09-14T13:09:29.276905Z",
     "iopub.status.idle": "2024-09-14T14:30:24.474910Z",
     "shell.execute_reply": "2024-09-14T14:30:24.473426Z"
    },
    "papermill": {
     "duration": 4855.209217,
     "end_time": "2024-09-14T14:30:24.476852",
     "exception": false,
     "start_time": "2024-09-14T13:09:29.267635",
     "status": "completed"
    },
    "tags": []
   },
   "outputs": [
    {
     "name": "stderr",
     "output_type": "stream",
     "text": [
      "100%|██████████| 3000/3000 [17:16<00:00,  2.89it/s]\n",
      "100%|██████████| 3000/3000 [16:24<00:00,  3.05it/s]\n",
      "100%|██████████| 3000/3000 [22:47<00:00,  2.19it/s]\n",
      "100%|██████████| 2999/2999 [24:26<00:00,  2.04it/s]\n"
     ]
    }
   ],
   "source": [
    "def run_functions_in_parallel():\n",
    "    with concurrent.futures.ThreadPoolExecutor() as executor:\n",
    "        futures = [\n",
    "            executor.submit(main_extractor_for_df(df1)),\n",
    "            executor.submit(main_extractor_for_df(df2)),\n",
    "            executor.submit(main_extractor_for_df(df3)),\n",
    "            executor.submit(main_extractor_for_df(df4)),\n",
    "        ]\n",
    "        concurrent.futures.wait(futures)\n",
    "run_functions_in_parallel()"
   ]
  },
  {
   "cell_type": "code",
   "execution_count": 13,
   "id": "388efc4e",
   "metadata": {
    "execution": {
     "iopub.execute_input": "2024-09-14T14:30:26.382296Z",
     "iopub.status.busy": "2024-09-14T14:30:26.381911Z",
     "iopub.status.idle": "2024-09-14T14:30:26.485070Z",
     "shell.execute_reply": "2024-09-14T14:30:26.484321Z"
    },
    "papermill": {
     "duration": 1.082586,
     "end_time": "2024-09-14T14:30:26.487153",
     "exception": false,
     "start_time": "2024-09-14T14:30:25.404567",
     "status": "completed"
    },
    "tags": []
   },
   "outputs": [],
   "source": [
    "df1.to_csv('12001-24000-1.csv')\n",
    "df2.to_csv('12001-24000-2.csv')\n",
    "df3.to_csv('12001-24000-3.csv')\n",
    "df4.to_csv('12001-24000-4.csv')"
   ]
  }
 ],
 "metadata": {
  "kaggle": {
   "accelerator": "nvidiaTeslaT4",
   "dataSources": [
    {
     "datasetId": 5688676,
     "sourceId": 9377823,
     "sourceType": "datasetVersion"
    },
    {
     "datasetId": 5690421,
     "sourceId": 9386511,
     "sourceType": "datasetVersion"
    }
   ],
   "dockerImageVersionId": 30762,
   "isGpuEnabled": true,
   "isInternetEnabled": true,
   "language": "python",
   "sourceType": "notebook"
  },
  "kernelspec": {
   "display_name": "Python 3",
   "language": "python",
   "name": "python3"
  },
  "language_info": {
   "codemirror_mode": {
    "name": "ipython",
    "version": 3
   },
   "file_extension": ".py",
   "mimetype": "text/x-python",
   "name": "python",
   "nbconvert_exporter": "python",
   "pygments_lexer": "ipython3",
   "version": "3.10.14"
  },
  "papermill": {
   "default_parameters": {},
   "duration": 4882.844847,
   "end_time": "2024-09-14T14:30:29.854930",
   "environment_variables": {},
   "exception": null,
   "input_path": "__notebook__.ipynb",
   "output_path": "__notebook__.ipynb",
   "parameters": {},
   "start_time": "2024-09-14T13:09:07.010083",
   "version": "2.3.3"
  }
 },
 "nbformat": 4,
 "nbformat_minor": 5
}
